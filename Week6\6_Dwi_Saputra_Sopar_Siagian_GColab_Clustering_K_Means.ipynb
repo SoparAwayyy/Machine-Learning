{
  "nbformat": 4,
  "nbformat_minor": 0,
  "metadata": {
    "colab": {
      "private_outputs": true,
      "provenance": [],
      "authorship_tag": "ABX9TyNKoJtavJ7EVWIdBKlI/MY1",
      "include_colab_link": true
    },
    "kernelspec": {
      "name": "python3",
      "display_name": "Python 3"
    },
    "language_info": {
      "name": "python"
    }
  },
  "cells": [
    {
      "cell_type": "markdown",
      "metadata": {
        "id": "view-in-github",
        "colab_type": "text"
      },
      "source": [
        "<a href=\"https://colab.research.google.com/github/SoparAwayyy/Machine-Learning/blob/main/Week6%5C6_Dwi_Saputra_Sopar_Siagian_GColab_Clustering_K_Means.ipynb\" target=\"_parent\"><img src=\"https://colab.research.google.com/assets/colab-badge.svg\" alt=\"Open In Colab\"/></a>"
      ]
    },
    {
      "cell_type": "markdown",
      "source": [
        "DWI SAPUTRA SOPAR SIAGIAN\n",
        "\n",
        "1103210220\n",
        "\n",
        "K-Means Clustering Data set mall_costumers\n",
        "\n",
        "prompt ChatGPT:https://chat.openai.com/c/9ef26f8d-9abc-45d1-8aa3-d869062f524c"
      ],
      "metadata": {
        "id": "5DvtlOTo12Rb"
      }
    },
    {
      "cell_type": "code",
      "source": [
        "import pandas as pd\n",
        "from sklearn.preprocessing import LabelEncoder\n",
        "import numpy as np\n",
        "import matplotlib.pyplot as plt\n",
        "from sklearn.cluster import KMeans\n",
        "from sklearn.datasets import make_blobs\n",
        "from sklearn.metrics import silhouette_score"
      ],
      "metadata": {
        "id": "wF6ed9iKwq1J"
      },
      "execution_count": null,
      "outputs": []
    },
    {
      "cell_type": "code",
      "execution_count": null,
      "metadata": {
        "id": "1WMLvqa1niBU"
      },
      "outputs": [],
      "source": [
        "from google.colab import drive\n",
        "drive.mount('/content/drive')"
      ]
    },
    {
      "cell_type": "code",
      "source": [
        "file_path = '/content/drive/MyDrive/ML DataSet/Mall_Customers.csv'\n",
        "df = pd.read_csv(file_path)"
      ],
      "metadata": {
        "id": "vSIWgZ-Wr9aY"
      },
      "execution_count": null,
      "outputs": []
    },
    {
      "cell_type": "code",
      "source": [
        "df.info()"
      ],
      "metadata": {
        "id": "cDEOp8yesfl-"
      },
      "execution_count": null,
      "outputs": []
    },
    {
      "cell_type": "code",
      "source": [
        "df.head()"
      ],
      "metadata": {
        "id": "UcziSZeFsk4m"
      },
      "execution_count": null,
      "outputs": []
    },
    {
      "cell_type": "code",
      "source": [
        "# menghapus kolom customer id dan gender dari dataframe\n",
        "df = df.drop(['CustomerID'], axis=1)\n",
        "\n",
        "# menampilkan seluruh informasi dataframe setelah penghapusan\n",
        "print(df.head())"
      ],
      "metadata": {
        "id": "BUkU9CL4vJzp"
      },
      "execution_count": null,
      "outputs": []
    },
    {
      "cell_type": "code",
      "source": [
        "from sklearn.preprocessing import LabelEncoder\n",
        "# Membuat objek LabelEncoder\n",
        "label_encoder = LabelEncoder()\n",
        "\n",
        "# Menggunakan LabelEncoder untuk mengonversi kategori 'Gender' menjadi numerik\n",
        "df['Gender'] = label_encoder.fit_transform(df['Gender'])\n",
        "\n",
        "df\n"
      ],
      "metadata": {
        "id": "PGvnlm9MwXxj"
      },
      "execution_count": null,
      "outputs": []
    },
    {
      "cell_type": "code",
      "source": [
        "# Menghitung inersia untuk jumlah cluster dari 1 hingga 10\n",
        "inertia = []\n",
        "for i in range(1, 11):\n",
        "    kmeans = KMeans(n_clusters=i, init='k-means++', max_iter=300, n_init=10, random_state=0)\n",
        "    kmeans.fit(df)\n",
        "    inertia.append(kmeans.inertia_)\n",
        "\n",
        "# Plotting metode siku\n",
        "plt.plot(range(1, 11), inertia, marker='o')\n",
        "plt.title('Metode Siku (Elbow Method)')\n",
        "plt.xlabel('Jumlah Cluster')\n",
        "plt.ylabel('Inersia')\n",
        "plt.show()"
      ],
      "metadata": {
        "id": "O3S55bNBxlOr"
      },
      "execution_count": null,
      "outputs": []
    },
    {
      "cell_type": "code",
      "source": [
        "# Memilih fitur yang akan digunakan untuk clustering\n",
        "X = df[['Age', 'Annual Income (k$)', 'Spending Score (1-100)']]\n",
        "\n",
        "# Membuat objek KMeans dengan 5 cluster\n",
        "kmeans = KMeans(n_clusters=8, init='k-means++', max_iter=300, n_init=10, random_state=0)\n",
        "\n",
        "# Melakukan clustering\n",
        "kmeans.fit(df)\n",
        "\n",
        "# Menambahkan kolom 'Cluster' ke dataframe untuk menunjukkan hasil clustering\n",
        "df['Cluster'] = kmeans.labels_\n",
        "\n",
        "# Menampilkan hasil clustering\n",
        "print(df)"
      ],
      "metadata": {
        "id": "sGm39yaEzL9E"
      },
      "execution_count": null,
      "outputs": []
    },
    {
      "cell_type": "code",
      "source": [
        "# Plotting data point sesuai dengan klaster yang diberikan oleh KMeans\n",
        "plt.scatter(df[df['Cluster'] == 0]['Annual Income (k$)'], df[df['Cluster'] == 0]['Spending Score (1-100)'], s=50, c='red', label='Cluster 1')\n",
        "plt.scatter(df[df['Cluster'] == 1]['Annual Income (k$)'], df[df['Cluster'] == 1]['Spending Score (1-100)'], s=50, c='blue', label='Cluster 2')\n",
        "plt.scatter(df[df['Cluster'] == 2]['Annual Income (k$)'], df[df['Cluster'] == 2]['Spending Score (1-100)'], s=50, c='green', label='Cluster 3')\n",
        "plt.scatter(df[df['Cluster'] == 3]['Annual Income (k$)'], df[df['Cluster'] == 3]['Spending Score (1-100)'], s=50, c='cyan', label='Cluster 4')\n",
        "plt.scatter(df[df['Cluster'] == 4]['Annual Income (k$)'], df[df['Cluster'] == 4]['Spending Score (1-100)'], s=50, c='magenta', label='Cluster 5')\n",
        "\n",
        "# Plotting pusat klaster\n",
        "plt.scatter(kmeans.cluster_centers_[:, 2], kmeans.cluster_centers_[:, 3], s=200, c='yellow', label='Centroids')\n",
        "\n",
        "# Menambahkan label dan judul plot\n",
        "plt.xlabel('Annual Income (k$)')\n",
        "plt.ylabel('Spending Score (1-100)')\n",
        "plt.title('Klasterisasi Pelanggan')\n",
        "\n",
        "# Menampilkan legenda\n",
        "plt.legend()\n",
        "\n",
        "# Menampilkan plot\n",
        "plt.show()\n",
        "\n"
      ],
      "metadata": {
        "id": "ZMmT98QRzwXQ"
      },
      "execution_count": null,
      "outputs": []
    },
    {
      "cell_type": "code",
      "source": [
        "# Plotting data point sesuai dengan klaster yang diberikan oleh KMeans\n",
        "plt.scatter(df['Annual Income (k$)'], df['Spending Score (1-100)'], c=df['Cluster'], cmap='rainbow', edgecolor='k', s=50)\n",
        "# Plotting pusat klaster\n",
        "plt.scatter(kmeans.cluster_centers_[:, 2], kmeans.cluster_centers_[:, 3], s=200, c='yellow', label='Centroids')\n",
        "\n",
        "# Menambahkan label dan judul plot\n",
        "plt.xlabel('Annual Income (k$)')\n",
        "plt.ylabel('Spending Score (1-100)')\n",
        "plt.title('Klasterisasi Pelanggan')\n",
        "\n",
        "# Menampilkan legenda\n",
        "plt.legend()\n",
        "\n",
        "# Menampilkan plot\n",
        "plt.show()\n"
      ],
      "metadata": {
        "id": "mlAgQNgT0wxx"
      },
      "execution_count": null,
      "outputs": []
    },
    {
      "cell_type": "markdown",
      "source": [
        "# **EVALUATION**\n",
        "\n",
        "\n"
      ],
      "metadata": {
        "id": "EaR232HU3KJ6"
      }
    },
    {
      "cell_type": "code",
      "source": [
        "# Menghitung inersia\n",
        "inertia = kmeans.inertia_\n",
        "print(\"Inersia:\", inertia)\n",
        "\n",
        "# Menghitung skor silhouette\n",
        "silhouette_avg = silhouette_score(X, kmeans.labels_)\n",
        "print(\"Skor Silhouette:\", silhouette_avg)"
      ],
      "metadata": {
        "id": "6J4tQrhX1kd8"
      },
      "execution_count": null,
      "outputs": []
    }
  ]
}