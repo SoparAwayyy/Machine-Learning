{
  "nbformat": 4,
  "nbformat_minor": 0,
  "metadata": {
    "colab": {
      "private_outputs": true,
      "provenance": [],
      "authorship_tag": "ABX9TyOxoZgs4Q8Qz/cp2xyPeetj",
      "include_colab_link": true
    },
    "kernelspec": {
      "name": "python3",
      "display_name": "Python 3"
    },
    "language_info": {
      "name": "python"
    }
  },
  "cells": [
    {
      "cell_type": "markdown",
      "metadata": {
        "id": "view-in-github",
        "colab_type": "text"
      },
      "source": [
        "<a href=\"https://colab.research.google.com/github/SoparAwayyy/Machine-Learning/blob/main/Week5/5_Dwi_Saputra_Sopar_Siagian_GColab_EDA_IT_Salary.ipynb\" target=\"_parent\"><img src=\"https://colab.research.google.com/assets/colab-badge.svg\" alt=\"Open In Colab\"/></a>"
      ]
    },
    {
      "cell_type": "markdown",
      "source": [
        "DWI SAPUTRA SOPAR SIAGIAN\n",
        "\n",
        "1103210220\n",
        "\n",
        "EDA IT Salary"
      ],
      "metadata": {
        "id": "a746FI2zcbUb"
      }
    },
    {
      "cell_type": "code",
      "execution_count": null,
      "metadata": {
        "id": "eaLJ0_fbXmhb"
      },
      "outputs": [],
      "source": [
        "import pandas as pd\n",
        "import seaborn as sns\n",
        "import matplotlib.pyplot as plt"
      ]
    },
    {
      "cell_type": "code",
      "source": [
        "from google.colab import drive\n",
        "drive.mount('/content/drive')"
      ],
      "metadata": {
        "id": "U1jvDWPFa5Iq"
      },
      "execution_count": null,
      "outputs": []
    },
    {
      "cell_type": "code",
      "source": [
        "file_path = '/content/drive/MyDrive/ML DataSet/IT Salary Survey EU  2020.csv'\n",
        "df = pd.read_csv(file_path)"
      ],
      "metadata": {
        "id": "iTJDZeRwa6Vv"
      },
      "execution_count": null,
      "outputs": []
    },
    {
      "cell_type": "code",
      "source": [
        "df.head()"
      ],
      "metadata": {
        "id": "1-oTJPSfb9Ww"
      },
      "execution_count": null,
      "outputs": []
    },
    {
      "cell_type": "code",
      "source": [
        "df.info()"
      ],
      "metadata": {
        "id": "2AOxSo_acDQe"
      },
      "execution_count": null,
      "outputs": []
    },
    {
      "cell_type": "code",
      "source": [
        "df.tail()"
      ],
      "metadata": {
        "id": "Zgvtv0EHcCD1"
      },
      "execution_count": null,
      "outputs": []
    },
    {
      "cell_type": "code",
      "source": [
        "selected_columns = [\"Total years of experience\",\n",
        "                    \"Years of experience in Germany\",\n",
        "                    \"Yearly bonus + stocks in EUR\",\n",
        "                    \"Annual bonus+stocks one year ago. Only answer if staying in same country\",\n",
        "                    \"Number of vacation days\",\n",
        "                    \"Contract duration\",\n",
        "                    \"Company size\"]\n",
        "print(df.head())"
      ],
      "metadata": {
        "id": "mFAzM-wZa8HM"
      },
      "execution_count": null,
      "outputs": []
    },
    {
      "cell_type": "code",
      "source": [
        "numeric_columns = [\"Total years of experience\",\n",
        "                     \"Years of experience in Germany\",\n",
        "                     \"Yearly bonus + stocks in EUR\",\n",
        "                     \"Annual bonus+stocks one year ago. Only answer if staying in same country\",\n",
        "                     \"Number of vacation days\"]\n",
        "\n",
        "df[numeric_columns] = df[numeric_columns].apply(pd.to_numeric, errors='coerce')\n",
        "\n",
        "print(df[numeric_columns].head())"
      ],
      "metadata": {
        "id": "fiVDXZpAa-xa"
      },
      "execution_count": null,
      "outputs": []
    },
    {
      "cell_type": "code",
      "source": [
        "rows_with_null = df[df.isnull().any(axis=1)]\n",
        "print(rows_with_null)"
      ],
      "metadata": {
        "id": "ThVeqW4UbAH2"
      },
      "execution_count": null,
      "outputs": []
    },
    {
      "cell_type": "code",
      "source": [
        "sns.boxplot(x=df['Years of experience in Germany'])\n",
        "plt.xlabel('Years of experience in Germany')\n",
        "plt.title('Boxplot of Years of experience in Germany')\n",
        "plt.show()"
      ],
      "metadata": {
        "id": "XdXN4c48bCi9"
      },
      "execution_count": null,
      "outputs": []
    },
    {
      "cell_type": "markdown",
      "source": [],
      "metadata": {
        "id": "IK0VUutVcZW0"
      }
    },
    {
      "cell_type": "code",
      "source": [
        "plt.scatter(df['Total years of experience'], df['Yearly bonus + stocks in EUR'], color='green', alpha=0.5)\n",
        "plt.xlabel('Total years of experience')\n",
        "plt.ylabel('Yearly bonus + stocks in EUR')\n",
        "plt.title('Scatter plot of Total years of experience vs Yearly bonus + stocks in EUR')\n",
        "plt.show()"
      ],
      "metadata": {
        "id": "8vUaLLABbECO"
      },
      "execution_count": null,
      "outputs": []
    },
    {
      "cell_type": "code",
      "source": [
        "numeric_df = df.select_dtypes(include='number')\n",
        "\n",
        "correlation_matrix = numeric_df.corr()\n",
        "\n",
        "plt.figure(figsize=(15, 8))\n",
        "sns.heatmap(correlation_matrix, annot=True, cmap='magma', fmt=\".2f\")\n",
        "plt.title('Heatmap Korelasi Antar Kolom Numerik')\n",
        "plt.show()"
      ],
      "metadata": {
        "id": "iG4FdoFpbFW1"
      },
      "execution_count": null,
      "outputs": []
    }
  ]
}