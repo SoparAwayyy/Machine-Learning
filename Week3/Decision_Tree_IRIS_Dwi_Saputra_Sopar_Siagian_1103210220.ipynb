{
  "nbformat": 4,
  "nbformat_minor": 0,
  "metadata": {
    "colab": {
      "private_outputs": true,
      "provenance": [],
      "mount_file_id": "1eZlUkc6tt86GmrZl6o1S9L5FmmS-7J45",
      "authorship_tag": "ABX9TyNvLcDMl26jOy53WnQpt/VW",
      "include_colab_link": true
    },
    "kernelspec": {
      "name": "python3",
      "display_name": "Python 3"
    },
    "language_info": {
      "name": "python"
    }
  },
  "cells": [
    {
      "cell_type": "markdown",
      "metadata": {
        "id": "view-in-github",
        "colab_type": "text"
      },
      "source": [
        "<a href=\"https://colab.research.google.com/github/SoparAwayyy/Machine-Learning/blob/main/Week3/Decision_Tree_IRIS_Dwi_Saputra_Sopar_Siagian_1103210220.ipynb\" target=\"_parent\"><img src=\"https://colab.research.google.com/assets/colab-badge.svg\" alt=\"Open In Colab\"/></a>"
      ]
    },
    {
      "cell_type": "markdown",
      "source": [
        "Dwi Saputra Sopar Siagian\n",
        "\n",
        "1103210220\n",
        "\n",
        "Decision Tree IRIS DATA SET\n",
        "\n",
        "Lecture 3\n",
        "\n",
        "Prompt ChatGPT : https://chat.openai.com/c/d465153e-c773-48cf-a02f-455304d52f53"
      ],
      "metadata": {
        "id": "wZ3m4bbJbdO-"
      }
    },
    {
      "cell_type": "code",
      "execution_count": null,
      "metadata": {
        "id": "zrCOQZiJbb_y"
      },
      "outputs": [],
      "source": [
        "from google.colab import drive\n",
        "drive.mount('/content/drive')"
      ]
    },
    {
      "cell_type": "code",
      "source": [
        "import pandas as pd\n",
        "import numpy as np\n",
        "import matplotlib.pyplot as plt\n",
        "import seaborn as sns\n",
        "from sklearn.model_selection import train_test_split\n",
        "from sklearn.tree import DecisionTreeClassifier\n",
        "from sklearn.metrics import accuracy_score, confusion_matrix, classification_report\n",
        "from sklearn.datasets import load_iris\n",
        "from sklearn import tree\n",
        "# Membaca data dari Google Drive\n",
        "iris_df = pd.read_csv('/content/drive/MyDrive/ML DataSet/IRIS.csv') # Ganti <ID_FILE> dengan ID file Google Drive\n",
        "\n",
        "# Memisahkan fitur dan label\n",
        "X = iris_df.drop('species', axis=1)\n",
        "y = iris_df['species']\n",
        "\n",
        "# Membagi data menjadi data latih dan data uji\n",
        "X_train, X_test, y_train, y_test = train_test_split(X, y, test_size=0.2, random_state=42)\n",
        "\n",
        "# Membuat model decision tree\n",
        "model = DecisionTreeClassifier()\n",
        "\n",
        "# Melatih model\n",
        "model.fit(X_train, y_train)\n",
        "\n",
        "# Memprediksi kelas pada data uji\n",
        "y_pred = model.predict(X_test)\n",
        "\n",
        "# Evaluasi model\n",
        "accuracy = accuracy_score(y_test, y_pred)\n",
        "print(\"Accuracy:\", accuracy)\n",
        "\n",
        "# Menampilkan laporan klasifikasi\n",
        "print(\"\\nClassification Report:\")\n",
        "print(classification_report(y_test, y_pred))\n",
        "\n",
        "# Visualisasi decision tree\n",
        "tree.plot_tree(model)\n",
        "\n",
        "# Baca dataset iris dari scikit-learn\n",
        "iris = load_iris()\n",
        "X = iris.data\n",
        "y = iris.target\n",
        "\n",
        "# Bagi data menjadi data latih dan data uji\n",
        "X_train, X_test, y_train, y_test = train_test_split(X, y, test_size=0.2, random_state=42)\n",
        "\n",
        "# Bangun model decision tree\n",
        "model = DecisionTreeClassifier()\n",
        "model.fit(X_train, y_train)\n",
        "\n",
        "# Lakukan prediksi pada data uji\n",
        "y_pred = model.predict(X_test)\n",
        "\n",
        "# Hitung akurasi\n",
        "accuracy = accuracy_score(y_test, y_pred)\n",
        "print(\"Akurasi Decision Tree:\", accuracy)\n",
        "\n",
        "# Buat confusion matrix\n",
        "cm = confusion_matrix(y_test, y_pred)\n",
        "\n",
        "# Visualisasi confusion matrix\n",
        "plt.figure(figsize=(8, 6))\n",
        "sns.heatmap(cm, annot=True, cmap='Blues', fmt='g', xticklabels=iris.target_names, yticklabels=iris.target_names)\n",
        "plt.xlabel('Predicted')\n",
        "plt.ylabel('Actual')\n",
        "plt.title('Confusion Matrix')\n",
        "plt.show()\n",
        "\n",
        "# Visualisasi model decision tree\n",
        "plt.figure(figsize=(20,10))\n",
        "tree.plot_tree(model, feature_names=iris.feature_names, class_names=iris.target_names, filled=True)\n",
        "plt.show()\n"
      ],
      "metadata": {
        "id": "-mKGi64Ci7nf"
      },
      "execution_count": null,
      "outputs": []
    },
    {
      "cell_type": "code",
      "source": [],
      "metadata": {
        "id": "QpZGmc6kjFqO"
      },
      "execution_count": null,
      "outputs": []
    }
  ]
}