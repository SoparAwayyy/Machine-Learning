{
  "nbformat": 4,
  "nbformat_minor": 0,
  "metadata": {
    "colab": {
      "private_outputs": true,
      "provenance": [],
      "authorship_tag": "ABX9TyO46b2G8xYQeE/u4KTxIX3y",
      "include_colab_link": true
    },
    "kernelspec": {
      "name": "python3",
      "display_name": "Python 3"
    },
    "language_info": {
      "name": "python"
    }
  },
  "cells": [
    {
      "cell_type": "markdown",
      "metadata": {
        "id": "view-in-github",
        "colab_type": "text"
      },
      "source": [
        "<a href=\"https://colab.research.google.com/github/SoparAwayyy/Machine-Learning/blob/main/Week9/BinaryClassificarionNNHousePrice.ipynb\" target=\"_parent\"><img src=\"https://colab.research.google.com/assets/colab-badge.svg\" alt=\"Open In Colab\"/></a>"
      ]
    },
    {
      "cell_type": "markdown",
      "source": [
        "DWI SAPUTRA SOPAR SIAGIAN\n",
        "\n",
        "1103210220\n",
        "\n",
        "BinaryClassificarionNNHousePrice\n",
        "\n",
        "Prompt: https://chatgpt.com/share/2267828c-e9e4-4b0d-81a5-b063df3b7950"
      ],
      "metadata": {
        "id": "R67E9V8o2B1B"
      }
    },
    {
      "cell_type": "markdown",
      "source": [
        "**IMPORT LIBRARY**"
      ],
      "metadata": {
        "id": "LJHuMJGl0SXt"
      }
    },
    {
      "cell_type": "code",
      "source": [
        "import pandas as pd\n",
        "from sklearn.model_selection import train_test_split\n",
        "from sklearn.preprocessing import StandardScaler\n",
        "from tensorflow.keras.models import Sequential\n",
        "from tensorflow.keras.layers import Dense\n",
        "from tensorflow.keras.optimizers import SGD\n",
        "import matplotlib.pyplot as plt"
      ],
      "metadata": {
        "id": "f_M9R-FToth7"
      },
      "execution_count": null,
      "outputs": []
    },
    {
      "cell_type": "markdown",
      "source": [
        "**Conect google colab**"
      ],
      "metadata": {
        "id": "rF-VMJdT0dSy"
      }
    },
    {
      "cell_type": "code",
      "execution_count": null,
      "metadata": {
        "id": "cOlzmUTdmVE6"
      },
      "outputs": [],
      "source": [
        "from google.colab import drive\n",
        "drive.mount('/content/drive')"
      ]
    },
    {
      "cell_type": "code",
      "source": [
        "file_path = '/content/drive/MyDrive/ML DataSet/housepricedata.csv'\n",
        "df = pd.read_csv(file_path)"
      ],
      "metadata": {
        "id": "P0blR-SOow7u"
      },
      "execution_count": null,
      "outputs": []
    },
    {
      "cell_type": "markdown",
      "source": [
        "**membaca 5 awalan data**"
      ],
      "metadata": {
        "id": "CcIMJY3n0ibe"
      }
    },
    {
      "cell_type": "code",
      "source": [
        "df.head()"
      ],
      "metadata": {
        "id": "5_2a0zOcoy9z"
      },
      "execution_count": null,
      "outputs": []
    },
    {
      "cell_type": "markdown",
      "source": [
        "**Mengetahui type data**"
      ],
      "metadata": {
        "id": "yQja5vDb0xD6"
      }
    },
    {
      "cell_type": "code",
      "source": [
        "df.info()"
      ],
      "metadata": {
        "id": "-vhNHGjKozau"
      },
      "execution_count": null,
      "outputs": []
    },
    {
      "cell_type": "markdown",
      "source": [
        "**Preprocessing data**\n",
        "1. Memisahkan fitur dan target: Memisahkan variabel input (fitur) dan output (target).\n",
        "2. Normalisasi data: Menstandarkan skala fitur-fitur agar memiliki distribusi yang seragam.\n",
        "3. Pembagian data: Membagi data menjadi set pelatihan dan pengujian untuk evaluasi model."
      ],
      "metadata": {
        "id": "lY-w1aVL1EWN"
      }
    },
    {
      "cell_type": "code",
      "source": [
        "# Pisahkan fitur dan target\n",
        "X = df.drop('AboveMedianPrice', axis=1)\n",
        "y = df['AboveMedianPrice']\n",
        "\n",
        "# Normalisasi data\n",
        "scaler = StandardScaler()\n",
        "X_scaled = scaler.fit_transform(X)\n",
        "\n",
        "# Membagi data menjadi 70% data pelatihan dan 30% data pengujian\n",
        "X_train, X_test, y_train, y_test = train_test_split(X_scaled, y, test_size=0.3, random_state=42)"
      ],
      "metadata": {
        "id": "ixIAh0APzH8j"
      },
      "execution_count": null,
      "outputs": []
    },
    {
      "cell_type": "markdown",
      "source": [
        "**Membuat model dan mengevaluasi model**"
      ],
      "metadata": {
        "id": "koCZFcgg1VRU"
      }
    },
    {
      "cell_type": "code",
      "source": [
        "# Membuat model neural network\n",
        "model = Sequential()\n",
        "model.add(Dense(64, input_dim=X_train.shape[1], activation='relu'))\n",
        "model.add(Dense(32, activation='relu'))\n",
        "model.add(Dense(1, activation='sigmoid')) # Output layer untuk klasifikasi biner\n",
        "\n",
        "# Kompilasi model\n",
        "model.compile(optimizer=SGD(), loss='binary_crossentropy', metrics=['accuracy'])\n",
        "\n",
        "# Melatih model\n",
        "history = model.fit(X_train, y_train, epochs=50, batch_size=10, validation_data=(X_test, y_test))\n",
        "\n",
        "# Mengevaluasi model\n",
        "loss, accuracy = model.evaluate(X_test, y_test)\n",
        "print(f\"Loss: {loss}\")\n",
        "print(f\"Accuracy: {accuracy}\")"
      ],
      "metadata": {
        "id": "_YcSGfKBzL05"
      },
      "execution_count": null,
      "outputs": []
    },
    {
      "cell_type": "markdown",
      "source": [
        "**Visualisasi loss dan akurasi**\n",
        "\n",
        "Plot pertama menampilkan training dan validation loss.\n",
        "\n",
        "Plot kedua menampilkan training dan validation accuracy."
      ],
      "metadata": {
        "id": "Z4LkOE9S1kwk"
      }
    },
    {
      "cell_type": "code",
      "source": [
        "# Visualisasi loss dan akurasi\n",
        "plt.figure(figsize=(12, 5))\n",
        "\n",
        "# Plot loss\n",
        "plt.subplot(1, 2, 1)\n",
        "plt.plot(history.history['loss'], label='Training Loss')\n",
        "plt.plot(history.history['val_loss'], label='Validation Loss')\n",
        "plt.title('Model Loss')\n",
        "plt.xlabel('Epochs')\n",
        "plt.ylabel('Loss')\n",
        "plt.legend()\n",
        "\n",
        "# Plot akurasi\n",
        "plt.subplot(1, 2, 2)\n",
        "plt.plot(history.history['accuracy'], label='Training Accuracy')\n",
        "plt.plot(history.history['val_accuracy'], label='Validation Accuracy')\n",
        "plt.title('Model Accuracy')\n",
        "plt.xlabel('Epochs')\n",
        "plt.ylabel('Accuracy')\n",
        "plt.legend()\n",
        "\n",
        "plt.show()"
      ],
      "metadata": {
        "id": "qFESyDdDrduN"
      },
      "execution_count": null,
      "outputs": []
    }
  ]
}