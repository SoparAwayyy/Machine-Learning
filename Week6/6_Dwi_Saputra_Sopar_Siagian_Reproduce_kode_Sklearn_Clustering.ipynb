{
  "nbformat": 4,
  "nbformat_minor": 0,
  "metadata": {
    "colab": {
      "private_outputs": true,
      "provenance": [],
      "authorship_tag": "ABX9TyMefFN+oC8MZGsXZ/MTF0qY",
      "include_colab_link": true
    },
    "kernelspec": {
      "name": "python3",
      "display_name": "Python 3"
    },
    "language_info": {
      "name": "python"
    }
  },
  "cells": [
    {
      "cell_type": "markdown",
      "metadata": {
        "id": "view-in-github",
        "colab_type": "text"
      },
      "source": [
        "<a href=\"https://colab.research.google.com/github/SoparAwayyy/Machine-Learning/blob/main/Week6/6_Dwi_Saputra_Sopar_Siagian_Reproduce_kode_Sklearn_Clustering.ipynb\" target=\"_parent\"><img src=\"https://colab.research.google.com/assets/colab-badge.svg\" alt=\"Open In Colab\"/></a>"
      ]
    },
    {
      "cell_type": "code",
      "source": [
        "import pandas as pd\n",
        "import matplotlib.pyplot as plt\n",
        "import numpy as np\n",
        "import seaborn as sns\n",
        "from sklearn.preprocessing import StandardScaler\n",
        "from sklearn.cluster import MeanShift, estimate_bandwidth\n",
        "from sklearn.datasets import make_blobs\n",
        "from sklearn import covariance, cluster, manifold\n",
        "from sklearn.cluster import AffinityPropagation\n",
        "from sklearn.manifold import LocallyLinearEmbedding\n",
        "from sklearn.metrics import silhouette_score\n",
        "from sklearn.cluster import Birch\n",
        "from sklearn.cluster import KMeans\n",
        "from sklearn.cluster import AgglomerativeClustering"
      ],
      "metadata": {
        "id": "QLSqNpyw5_tf"
      },
      "execution_count": null,
      "outputs": []
    },
    {
      "cell_type": "code",
      "execution_count": null,
      "metadata": {
        "id": "NYr6Hans5hUc"
      },
      "outputs": [],
      "source": [
        "from google.colab import drive\n",
        "drive.mount('/content/drive')"
      ]
    },
    {
      "cell_type": "code",
      "source": [
        "file_path = '/content/drive/MyDrive/ML DataSet/Mall_Customers.csv'\n",
        "df = pd.read_csv(file_path)"
      ],
      "metadata": {
        "id": "hXDbtI5553w6"
      },
      "execution_count": null,
      "outputs": []
    },
    {
      "cell_type": "code",
      "source": [
        "df.info()"
      ],
      "metadata": {
        "id": "oVGhWdV_9qpK"
      },
      "execution_count": null,
      "outputs": []
    },
    {
      "cell_type": "code",
      "source": [
        "df.head()"
      ],
      "metadata": {
        "id": "dkZtJMtC9tJf"
      },
      "execution_count": null,
      "outputs": []
    },
    {
      "cell_type": "markdown",
      "source": [
        "# **Affinity Propagation Clustering**"
      ],
      "metadata": {
        "id": "WxIS0nCL63o5"
      }
    },
    {
      "cell_type": "code",
      "source": [
        "# Memilih kolom yang akan digunakan untuk clustering\n",
        "X = df[['Age', 'Annual Income (k$)', 'Spending Score (1-100)']]\n",
        "\n",
        "# Penskalaan data\n",
        "scaler = StandardScaler()\n",
        "X_scaled = scaler.fit_transform(X)\n",
        "\n",
        "# Menjalankan Affinity Propagation Clustering\n",
        "af = AffinityPropagation(preference=-50, random_state=0).fit(X_scaled)\n",
        "cluster_centers_indices = af.cluster_centers_indices_\n",
        "labels = af.labels_\n",
        "n_clusters_ = len(cluster_centers_indices)\n",
        "\n",
        "print(\"Estimated number of clusters:\", n_clusters_)\n",
        "print(\"Silhouette Coefficient:\", silhouette_score(X_scaled, labels, metric='sqeuclidean'))\n",
        "\n",
        "# Visualisasi hasil clustering\n",
        "plt.figure(figsize=(10, 8))\n",
        "colors = plt.cm.viridis(np.linspace(0, 1, n_clusters_))\n",
        "\n",
        "for k, col in zip(range(n_clusters_), colors):\n",
        "    class_members = labels == k\n",
        "    cluster_center = X_scaled[cluster_centers_indices[k]]\n",
        "    plt.scatter(X_scaled[class_members, 0], X_scaled[class_members, 1], color=col, marker=\".\", label=f'Cluster {k}')\n",
        "    plt.scatter(cluster_center[0], cluster_center[1], s=200, color=col, marker=\"o\", label=f'Cluster {k} center')\n",
        "    for x in X_scaled[class_members]:\n",
        "        plt.plot([cluster_center[0], x[0]], [cluster_center[1], x[1]], color=col)\n",
        "\n",
        "plt.title(\"Estimated number of clusters: %d\" % n_clusters_)\n",
        "plt.legend()\n",
        "plt.show()"
      ],
      "metadata": {
        "id": "A-3dje_k9LHb"
      },
      "execution_count": null,
      "outputs": []
    },
    {
      "cell_type": "markdown",
      "source": [
        "# **Mean Shift Clustering**\n",
        "\n",
        "> Add blockquote\n",
        "\n"
      ],
      "metadata": {
        "id": "M5-UpUs77AI2"
      }
    },
    {
      "cell_type": "code",
      "source": [
        "X = df[['Age', 'Annual Income (k$)', 'Spending Score (1-100)']]\n",
        "\n",
        "scaler = StandardScaler()\n",
        "X_scaled = scaler.fit_transform(X)\n",
        "\n",
        "bandwidth = estimate_bandwidth(X_scaled, quantile=0.2, n_samples=500)\n",
        "\n",
        "ms = MeanShift(bandwidth=bandwidth, bin_seeding=True)\n",
        "ms.fit(X_scaled)\n",
        "labels = ms.labels_\n",
        "cluster_centers = ms.cluster_centers_\n",
        "\n",
        "labels_unique = np.unique(labels)\n",
        "n_clusters_ = len(labels_unique)\n",
        "\n",
        "print(\"Number of estimated clusters: %d\" % n_clusters_)\n",
        "\n",
        "plt.figure(figsize=(10, 8))\n",
        "\n",
        "for k in range(n_clusters_):\n",
        "    cluster_center = cluster_centers[k]\n",
        "    cluster_points = X_scaled[labels == k]\n",
        "    plt.scatter(cluster_points[:, 0], cluster_points[:, 1], label=f'Cluster {k}')\n",
        "\n",
        "plt.scatter(cluster_centers[:, 0], cluster_centers[:, 1], color='black', marker='x', s=100, label='Centroids')\n",
        "plt.title(\"Estimated number of clusters: %d\" % n_clusters_)\n",
        "plt.xlabel('Age (scaled)')\n",
        "plt.ylabel('Annual Income (k$) (scaled)')\n",
        "plt.legend()\n",
        "plt.show()"
      ],
      "metadata": {
        "id": "sCChfC5h8mnd"
      },
      "execution_count": null,
      "outputs": []
    },
    {
      "cell_type": "markdown",
      "source": [
        "# **BIRCH Clustering**"
      ],
      "metadata": {
        "id": "_7ZkOJJL_1ky"
      }
    },
    {
      "cell_type": "code",
      "source": [
        "# Menampilkan beberapa baris pertama dari dataset\n",
        "print(df.head())\n",
        "\n",
        "# Memilih fitur yang akan digunakan untuk clustering\n",
        "X = df[['Age', 'Annual Income (k$)', 'Spending Score (1-100)']]\n",
        "\n",
        "# Penskalaan data\n",
        "scaler = StandardScaler()\n",
        "X_scaled = scaler.fit_transform(X)\n",
        "\n",
        "# Menerapkan BIRCH Clustering\n",
        "birch = Birch(threshold=0.5, n_clusters=None)\n",
        "birch.fit(X_scaled)\n",
        "\n",
        "# Menyimpan label cluster untuk setiap titik data\n",
        "labels = birch.labels_\n",
        "\n",
        "# Menambahkan kolom label ke dataframe\n",
        "df['Cluster'] = labels\n",
        "\n",
        "# Menampilkan informasi hasil clustering\n",
        "print(\"Jumlah cluster yang dihasilkan:\", len(set(labels)))\n",
        "print(df['Cluster'].value_counts())\n",
        "\n",
        "# Visualisasi hasil clustering\n",
        "plt.figure(figsize=(10, 6))\n",
        "sns.scatterplot(data=df, x='Annual Income (k$)', y='Spending Score (1-100)', hue='Cluster', palette='viridis', legend='full')\n",
        "plt.title('Clustering menggunakan BIRCH')\n",
        "plt.xlabel('Annual Income (k$)')\n",
        "plt.ylabel('Spending Score (1-100)')\n",
        "plt.show()"
      ],
      "metadata": {
        "id": "I01hJtHZ_kla"
      },
      "execution_count": null,
      "outputs": []
    },
    {
      "cell_type": "markdown",
      "source": [
        "# **K-Means Clustering**"
      ],
      "metadata": {
        "id": "bCCuhfY7BATi"
      }
    },
    {
      "cell_type": "code",
      "source": [
        "# Menampilkan beberapa baris pertama dari dataset\n",
        "print(df.head())\n",
        "\n",
        "# Memilih fitur yang akan digunakan untuk clustering\n",
        "X = df[['Age', 'Annual Income (k$)', 'Spending Score (1-100)']]\n",
        "\n",
        "# Penskalaan data\n",
        "scaler = StandardScaler()\n",
        "X_scaled = scaler.fit_transform(X)\n",
        "\n",
        "# Menentukan jumlah cluster yang diinginkan\n",
        "n_clusters = 5\n",
        "\n",
        "# Menerapkan K-Means Clustering\n",
        "kmeans = KMeans(n_clusters=n_clusters, random_state=42)\n",
        "kmeans.fit(X_scaled)\n",
        "\n",
        "# Menyimpan label cluster untuk setiap titik data\n",
        "labels = kmeans.labels_\n",
        "\n",
        "# Menambahkan kolom label ke dataframe\n",
        "df['Cluster'] = labels\n",
        "\n",
        "# Menampilkan informasi hasil clustering\n",
        "print(\"Jumlah cluster yang dihasilkan:\", n_clusters)\n",
        "print(df['Cluster'].value_counts())\n",
        "\n",
        "# Visualisasi hasil clustering\n",
        "plt.figure(figsize=(10, 6))\n",
        "sns.scatterplot(data=df, x='Annual Income (k$)', y='Spending Score (1-100)', hue='Cluster', palette='viridis', legend='full')\n",
        "plt.title('Clustering menggunakan K-Means')\n",
        "plt.xlabel('Annual Income (k$)')\n",
        "plt.ylabel('Spending Score (1-100)')\n",
        "plt.show()"
      ],
      "metadata": {
        "id": "Rdc4aYEQ__Bo"
      },
      "execution_count": null,
      "outputs": []
    },
    {
      "cell_type": "markdown",
      "source": [
        "# **Hierarchical clustering**"
      ],
      "metadata": {
        "id": "5k5AKkqyBiM3"
      }
    },
    {
      "cell_type": "code",
      "source": [
        "# Menampilkan beberapa baris pertama dari dataset\n",
        "print(df.head())\n",
        "\n",
        "# Memilih fitur yang akan digunakan untuk clustering\n",
        "X = df[['Age', 'Annual Income (k$)', 'Spending Score (1-100)']]\n",
        "\n",
        "# Penskalaan data\n",
        "scaler = StandardScaler()\n",
        "X_scaled = scaler.fit_transform(X)\n",
        "\n",
        "# Menentukan jumlah cluster yang diinginkan\n",
        "n_clusters = 5\n",
        "\n",
        "# Menerapkan Hierarchical Clustering\n",
        "hc = AgglomerativeClustering(n_clusters=n_clusters, affinity='euclidean', linkage='ward')\n",
        "hc.fit(X_scaled)\n",
        "\n",
        "# Menyimpan label cluster untuk setiap titik data\n",
        "labels = hc.labels_\n",
        "\n",
        "# Menambahkan kolom label ke dataframe\n",
        "df['Cluster'] = labels\n",
        "\n",
        "# Menampilkan informasi hasil clustering\n",
        "print(\"Jumlah cluster yang dihasilkan:\", n_clusters)\n",
        "print(df['Cluster'].value_counts())\n",
        "\n",
        "# Visualisasi hasil clustering\n",
        "plt.figure(figsize=(10, 6))\n",
        "sns.scatterplot(data=df, x='Annual Income (k$)', y='Spending Score (1-100)', hue='Cluster', palette='viridis', legend='full')\n",
        "plt.title('Clustering menggunakan Hierarchical Clustering')\n",
        "plt.xlabel('Annual Income (k$)')\n",
        "plt.ylabel('Spending Score (1-100)')\n",
        "plt.show()"
      ],
      "metadata": {
        "id": "CYnxJ6D0Bhvb"
      },
      "execution_count": null,
      "outputs": []
    }
  ]
}