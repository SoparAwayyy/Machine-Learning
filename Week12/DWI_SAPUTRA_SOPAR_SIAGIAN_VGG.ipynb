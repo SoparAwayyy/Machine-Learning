{
  "nbformat": 4,
  "nbformat_minor": 0,
  "metadata": {
    "colab": {
      "private_outputs": true,
      "provenance": [],
      "authorship_tag": "ABX9TyPni/DBdvIVa5rgL4GchP+y",
      "include_colab_link": true
    },
    "kernelspec": {
      "name": "python3",
      "display_name": "Python 3"
    },
    "language_info": {
      "name": "python"
    }
  },
  "cells": [
    {
      "cell_type": "markdown",
      "metadata": {
        "id": "view-in-github",
        "colab_type": "text"
      },
      "source": [
        "<a href=\"https://colab.research.google.com/github/SoparAwayyy/Machine-Learning/blob/main/Week12/DWI_SAPUTRA_SOPAR_SIAGIAN_VGG.ipynb\" target=\"_parent\"><img src=\"https://colab.research.google.com/assets/colab-badge.svg\" alt=\"Open In Colab\"/></a>"
      ]
    },
    {
      "cell_type": "markdown",
      "source": [
        "DWI SAPUTRA SOPAR SIAGIAN\n",
        "\n",
        "1103210220\n",
        "\n",
        "Tugas : 12\n",
        "\n",
        "Model: CNN Modern\n",
        "\n",
        "Referensi: https://d2l.ai/chapter_convolutional-modern/vgg.html"
      ],
      "metadata": {
        "id": "PB4uDaNT-yjA"
      }
    },
    {
      "cell_type": "code",
      "execution_count": null,
      "metadata": {
        "id": "bxemcBe8-Mn5"
      },
      "outputs": [],
      "source": [
        "pip install d2l\n"
      ]
    },
    {
      "cell_type": "code",
      "source": [
        "import torch\n",
        "from torch import nn\n",
        "import d2l.torch as d2l"
      ],
      "metadata": {
        "id": "ZYCMV_p6_ucF"
      },
      "execution_count": null,
      "outputs": []
    },
    {
      "cell_type": "code",
      "source": [
        "def vgg_block(num_convs, out_channels):\n",
        "  # vgg_block. Fungsi ini menerima dua argumen: num_convs, yang merupakan jumlah lapisan konvolusi dalam blok\n",
        "  # out_channels, yang menentukan jumlah saluran (channels) untuk keluaran dari setiap lapisan konvolusi.\n",
        "    layers = []\n",
        "    # membuat daftar kosong yang akan berisi lapisan-lapisan dari blok VGG.\n",
        "    for _ in range(num_convs):\n",
        "        layers.append(nn.LazyConv2d(out_channels, kernel_size=3, padding=1))\n",
        "        # nn.LazyConv2d: Lapisan konvolusi dengan out_channels saluran, menggunakan kernel (filter) dengan ukuran 3x3 dan padding sebesar 1 piksel.\n",
        "        layers.append(nn.ReLU())\n",
        "        # Fungsi aktivasi ReLU yang akan diaplikasikan setelah setiap lapisan konvolusi.\n",
        "    layers.append(nn.MaxPool2d(kernel_size=2,stride=2))\n",
        "    #     # lapisan penurunan dimensi spasial (spatial downsampling) yang akan mengurangi dimensi spasial keluaran dari blok VGG dengan mengambil nilai maksimum dalam jendela kernel 2x2 dengan pergeseran (stride) 2.\n",
        "    return nn.Sequential(*layers)\n",
        "    #  untuk menggunakan blok VGG ini sebagai sebuah unit tunggal dalam membangun arsitektur jaringan yang lebih besar.\n"
      ],
      "metadata": {
        "id": "BPPzjnA1_yHo"
      },
      "execution_count": null,
      "outputs": []
    },
    {
      "cell_type": "code",
      "source": [
        "class VGG(d2l.Classifier):\n",
        "  # mengindikasikan bahwa model ini akan digunakan untuk klasifikasi.\n",
        "    def __init__(self, arch, lr=0.1, num_classes=10):\n",
        "      # metode konstruktor untuk kelas VGG. Ini menerima beberapa parameter:\n",
        "        super().__init__()\n",
        "        # memanggil konstruktor kelas dasar (d2l.Classifier).\n",
        "        self.save_hyperparameters()\n",
        "        # adalah metode dari PyTorch Lightning yang digunakan untuk menyimpan semua hiperparameter (termasuk yang dilewatkan ke __init__) ke dalam objek self.hparams.\n",
        "        conv_blks = []\n",
        "        # Membuat list kosong untuk menyimpan blok konvolusi dari model.\n",
        "        for (num_convs, out_channels) in arch:\n",
        "          # Melakukan iterasi pada setiap tuple dalam arch.\n",
        "            conv_blks.append(vgg_block(num_convs, out_channels))\n",
        "            # Menambahkan blok konvolusi baru ke dalam list conv_blks dengan menggunakan fungsi vgg_block yang belum didefinisikan.\n",
        "        self.net = nn.Sequential(\n",
        "            # Mendefinisikan model jaringan saraf sebagai objek nn.Sequential\n",
        "            *conv_blks, nn.Flatten(),\n",
        "            nn.LazyLinear(4096), nn.ReLU(), nn.Dropout(0.5),\n",
        "            nn.LazyLinear(4096), nn.ReLU(), nn.Dropout(0.5),\n",
        "            nn.LazyLinear(num_classes))\n",
        "        self.net.apply(d2l.init_cnn)\n",
        "        # Menerapkan inisialisasi CNN (convolutional neural network) dari modul d2l ke model, yang biasanya digunakan untuk menginisialisasi bobot dan bias dalam jaringan.\n",
        ""
      ],
      "metadata": {
        "id": "Xb3UuRdm_0ht"
      },
      "execution_count": null,
      "outputs": []
    },
    {
      "cell_type": "code",
      "source": [
        "VGG(arch=((1, 64), (1, 128), (2, 256), (2, 512), (2, 512))).layer_summary(\n",
        "    (1, 1, 224, 224))\n",
        "# untuk menganalisis arsitektur jaringan yang diberikan dengan ukuran input tertentu dan untuk menganalisis arsitektur dan ukuran input\n",
        ""
      ],
      "metadata": {
        "id": "NCOYGOqN_1-J"
      },
      "execution_count": null,
      "outputs": []
    },
    {
      "cell_type": "code",
      "source": [
        "model = VGG(arch=((1, 16), (1, 32), (2, 64), (2, 128), (2, 128)), lr=0.01)\n",
        "# Baris ini membuat model menggunakan arsitektur VGG\n",
        "trainer = d2l.Trainer(max_epochs=10, num_gpus=1)\n",
        "# menentukan jumlah epoch (iterasi penuh melalui seluruh dataset) yang akan dilakukan selama pelatihan.\n",
        "data = d2l.FashionMNIST(batch_size=128, resize=(224, 224))\n",
        "# Dataset ini akan digunakan untuk pelatihan model, menentukan ukuran batch yang akan digunakan selama pelatihan. , menentukan dimensi gambar yang akan diubah sebelum dimasukkan ke dalam model.\n",
        "model.apply_init([next(iter(data.get_dataloader(True)))[0]], d2l.init_cnn)\n",
        "# Baris ini menginisialisasi parameter model menggunakan metode apply_init\n",
        "trainer.fit(model, data)\n",
        "# proses pelatihan model menggunakan objek trainer yang telah dibuat sebelumnya.\n",
        "# Metode fit dari objek trainer digunakan untuk melatih model menggunakan data yang telah diberikan.\n",
        "# Proses pelatihan akan berlangsung selama jumlah epoch yang telah ditentukan.\n",
        ""
      ],
      "metadata": {
        "id": "KueYVSZ5_312"
      },
      "execution_count": null,
      "outputs": []
    }
  ]
}