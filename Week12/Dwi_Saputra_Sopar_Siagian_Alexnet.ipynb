{
  "nbformat": 4,
  "nbformat_minor": 0,
  "metadata": {
    "colab": {
      "private_outputs": true,
      "provenance": [],
      "authorship_tag": "ABX9TyPpY1lPQ6VXUS7liDUz7LR0",
      "include_colab_link": true
    },
    "kernelspec": {
      "name": "python3",
      "display_name": "Python 3"
    },
    "language_info": {
      "name": "python"
    }
  },
  "cells": [
    {
      "cell_type": "markdown",
      "metadata": {
        "id": "view-in-github",
        "colab_type": "text"
      },
      "source": [
        "<a href=\"https://colab.research.google.com/github/SoparAwayyy/Machine-Learning/blob/main/Week12/Dwi_Saputra_Sopar_Siagian_Alexnet.ipynb\" target=\"_parent\"><img src=\"https://colab.research.google.com/assets/colab-badge.svg\" alt=\"Open In Colab\"/></a>"
      ]
    },
    {
      "cell_type": "markdown",
      "source": [
        "DWI SAPUTRA SOPAR SIAGIAN\n",
        "\n",
        "1103210220\n",
        "\n",
        "Tugas : 12\n",
        "\n",
        "Model: CNN Modern\n",
        "\n",
        "Referensi: https://d2l.ai/chapter_convolutional-modern/alexnet.html"
      ],
      "metadata": {
        "id": "AfQDdhDq-g9H"
      }
    },
    {
      "cell_type": "code",
      "source": [
        "pip install d2l"
      ],
      "metadata": {
        "id": "aQewvgBb9heO"
      },
      "execution_count": null,
      "outputs": []
    },
    {
      "cell_type": "code",
      "source": [
        "import torch\n",
        "from torch import nn\n",
        "from d2l import torch as d2l"
      ],
      "metadata": {
        "id": "peR_PF3T9yYq"
      },
      "execution_count": null,
      "outputs": []
    },
    {
      "cell_type": "code",
      "source": [
        "class AlexNet(d2l.Classifier):\n",
        "    def __init__(self, lr=0.1, num_classes=10):\n",
        "      #  Menginisialisasi parameter-model dan lapisan-lapisan yang akan digunakan dalam jaringan.\n",
        "        super().__init__()\n",
        "        # memastikan bahwa fungsi-fungsi dan atribut-atribut dari kelas induk juga diinisialisasi.\n",
        "        self.save_hyperparameters()\n",
        "        # Menyimpan semua hiperparameter model sehingga mereka dapat diakses nanti. Ini adalah fungsi dari PyTorch Lightning.\n",
        "        self.net = nn.Sequential(\n",
        "            # Mendefinisikan arsitektur jaringan\n",
        "            nn.LazyConv2d(96, kernel_size=11, stride=4, padding=1),\n",
        "            # menunda inisialisasi layer hingga saat pertama kali layer digunakan, ini dapat menghemat memori saat membuat model yang besar.\n",
        "            nn.ReLU(), nn.MaxPool2d(kernel_size=3, stride=2),\n",
        "            nn.LazyConv2d(256, kernel_size=5, padding=2), nn.ReLU(),\n",
        "            nn.MaxPool2d(kernel_size=3, stride=2),\n",
        "            nn.LazyConv2d(384, kernel_size=3, padding=1), nn.ReLU(),\n",
        "            nn.LazyConv2d(384, kernel_size=3, padding=1), nn.ReLU(),\n",
        "            nn.LazyConv2d(256, kernel_size=3, padding=1), nn.ReLU(),\n",
        "            nn.MaxPool2d(kernel_size=3, stride=2), nn.Flatten(),\n",
        "            # Lapisan untuk meratakan (flatten) output dari lapisan konvolusi ke dalam vektor satu dimensi. Ini dibutuhkan sebelum menghubungkan ke lapisan-lapisan fully connected.\n",
        "            nn.LazyLinear(4096), nn.ReLU(), nn.Dropout(p=0.5),\n",
        "            # Lapisan-lapisan linear (fully connected) yang diikuti oleh fungsi aktivasi ReLU dan dropout dengan probabilitas 0.5.\n",
        "            nn.LazyLinear(4096), nn.ReLU(),nn.Dropout(p=0.5),\n",
        "            nn.LazyLinear(num_classes))\n",
        "            # Lapisan linear terakhir yang menghasilkan keluaran sesuai dengan jumlah kelas dalam dataset.\n",
        "\n",
        "        self.net.apply(d2l.init_cnn)\n",
        "        # Menginisialisasi parameter-parameter model dengan metode init_cnn yang disediakan oleh modul d2l. Ini membantu menginisialisasi bobot-bobot secara acak dengan distribusi yang sesuai.\n",
        "\n",
        ""
      ],
      "metadata": {
        "id": "C6_OOESB93H7"
      },
      "execution_count": null,
      "outputs": []
    },
    {
      "cell_type": "code",
      "source": [
        "AlexNet().layer_summary((1, 1, 224, 224))\n",
        "# untuk memahami struktur dan ukuran setiap lapisan dalam model Dengan memberikan tuple input yang menunjukkan dimensi tensor masukan yang diharapkan oleh model (dalam hal ini (1, 1, 224, 224)), Anda dapat melihat bagaimana dimensi tensor berubah saat melewati setiap lapisan dalam model.\n",
        ""
      ],
      "metadata": {
        "id": "5wHZz1a995-Y"
      },
      "execution_count": null,
      "outputs": []
    },
    {
      "cell_type": "code",
      "source": [
        "model = AlexNet(lr=0.01)\n",
        "# membuat sebuah objek model dari kelas AlexNet, dengan mengatur nilai learning rate (lr) menjadi 0.01.\n",
        "data = d2l.FashionMNIST(batch_size=128, resize=(224, 224))\n",
        "# Fungsi ini menghasilkan data set FashionMNIST dari modul d2l dengan ukuran batch 128 dan ukuran gambar yang diubah menjadi 224x224 pixel.\n",
        "trainer = d2l.Trainer(max_epochs=10, num_gpus=1)\n",
        "# Objek ini akan digunakan untuk melatih model yang berarti pelatihan akan berjalan selama 10 epoch (siklus lengkap melalui seluruh dataset).\n",
        "trainer.fit(model, data)\n",
        "# Proses pelatihan akan berlangsung selama jumlah epoch yang telah ditentukan (dalam kasus ini, 10 epoch)."
      ],
      "metadata": {
        "id": "UqDGql9l988i"
      },
      "execution_count": null,
      "outputs": []
    }
  ]
}