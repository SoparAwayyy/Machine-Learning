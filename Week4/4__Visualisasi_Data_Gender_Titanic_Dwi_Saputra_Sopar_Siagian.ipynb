{
  "nbformat": 4,
  "nbformat_minor": 0,
  "metadata": {
    "colab": {
      "private_outputs": true,
      "provenance": [],
      "authorship_tag": "ABX9TyOqpHnLPW4CmjRG/kO2c1Qq",
      "include_colab_link": true
    },
    "kernelspec": {
      "name": "python3",
      "display_name": "Python 3"
    },
    "language_info": {
      "name": "python"
    }
  },
  "cells": [
    {
      "cell_type": "markdown",
      "metadata": {
        "id": "view-in-github",
        "colab_type": "text"
      },
      "source": [
        "<a href=\"https://colab.research.google.com/github/SoparAwayyy/Machine-Learning/blob/main/Week4/4__Visualisasi_Data_Gender_Titanic_Dwi_Saputra_Sopar_Siagian.ipynb\" target=\"_parent\"><img src=\"https://colab.research.google.com/assets/colab-badge.svg\" alt=\"Open In Colab\"/></a>"
      ]
    },
    {
      "cell_type": "markdown",
      "source": [
        "DWI SAPUTRA SOPAR SIAGIAN\n",
        "\n",
        "1103210220\n",
        "\n",
        "VISUALISASI DATA Gender Titanic"
      ],
      "metadata": {
        "id": "QlK4CV0RO0qs"
      }
    },
    {
      "cell_type": "code",
      "execution_count": null,
      "metadata": {
        "id": "pTjPvaP_OsI6"
      },
      "outputs": [],
      "source": [
        "from google.colab import drive\n",
        "import pandas as pd\n",
        "import matplotlib.pyplot as plt\n",
        "import seaborn as sns\n",
        "import numpy as np\n",
        "from numpy import size\n",
        "import ipywidgets as widgets\n",
        "from ipywidgets import interact"
      ]
    },
    {
      "cell_type": "code",
      "source": [
        "drive.mount ('/content/drive')"
      ],
      "metadata": {
        "id": "Fr0lP-tOO8AL"
      },
      "execution_count": null,
      "outputs": []
    },
    {
      "cell_type": "code",
      "source": [
        "# Path dari google drive\n",
        "file_path = ('/content/drive/MyDrive/ML DataSet/test-gender titanic.csv')\n",
        "\n",
        "# membaca dataset csv menjadi dataframe\n",
        "df = pd.read_csv(file_path)\n",
        "\n",
        "# menampilkan lima baris pertama dari dataframe\n",
        "print(df.head())"
      ],
      "metadata": {
        "id": "qcuao4ypO9gi"
      },
      "execution_count": null,
      "outputs": []
    },
    {
      "cell_type": "code",
      "source": [
        "# Menghitung jumlah nilai unik untuk setiap fitur\n",
        "unique_counts = df.nunique()\n",
        "\n",
        "# Menampilkan jumlah nilai unik untuk setiap fitur\n",
        "print(unique_counts)"
      ],
      "metadata": {
        "id": "Ilu1ZMLnP9YM"
      },
      "execution_count": null,
      "outputs": []
    },
    {
      "cell_type": "code",
      "source": [
        "# Mengelompokkan fitur ke dalam tiga kategori\n",
        "numerical_features = ['PassengerId', 'Embarked', 'Cabin']\n",
        "categorical_features = ['Name', 'Sex', ]\n",
        "target = ['Age']\n",
        "\n",
        "# Output hasil pengelompokkan\n",
        "print(\"Numerical Features:\", numerical_features)\n",
        "print(\"Categorical Features:\", categorical_features)\n",
        "print(\"Target:\", target)"
      ],
      "metadata": {
        "id": "HW8w6CfsQTxW"
      },
      "execution_count": null,
      "outputs": []
    },
    {
      "cell_type": "code",
      "source": [
        "# Memilih kolom-kolom numerik\n",
        "numeric_columns = df.select_dtypes(include=['float64', 'int64'])\n",
        "\n",
        "# Menghitung korelasi antar fitur numerik\n",
        "correlation_matrix = numeric_columns.corr()\n",
        "\n",
        "# Membuat heatmap\n",
        "plt.figure(figsize=(10, 8))\n",
        "sns.heatmap(correlation_matrix, annot=True, cmap='coolwarm', fmt=\".2f\", linewidths=0.5)\n",
        "plt.title('Heatmap Korelasi Fitur Numerik')\n",
        "plt.show()"
      ],
      "metadata": {
        "id": "-HKIalX1Segn"
      },
      "execution_count": null,
      "outputs": []
    },
    {
      "cell_type": "code",
      "source": [
        "# Membuat bar chart untuk fitur kategori\n",
        "for feature in categorical_features:\n",
        "    plt.figure(figsize=(8, 6))\n",
        "    sns.countplot(x=feature, data=df, palette='viridis')\n",
        "    plt.title(f'Bar Chart for {feature}', size=15)\n",
        "    plt.xlabel(feature, size=12)\n",
        "    plt.ylabel('Count', size=15)\n",
        "    plt.show()"
      ],
      "metadata": {
        "id": "DE4NpUCbRKQg"
      },
      "execution_count": null,
      "outputs": []
    },
    {
      "cell_type": "code",
      "source": [
        "# Membuat pie chart untuk setiap fitur kategorikal\n",
        "dark_colors = ['#FF5733', '#C70039', '#900C3F', '#581845', '#4A235A']\n",
        "for feature in categorical_features:\n",
        "  plt.figure(figsize=(8, 6))\n",
        "  df[feature].value_counts().plot(kind='pie', autopct='%1.1f%%', colors=dark_colors)\n",
        "  plt.title(f'Pie Chart Of {feature}', size=15)\n",
        "  plt.ylabel('')\n",
        "  plt.show()"
      ],
      "metadata": {
        "id": "w0N3I_UURVIa"
      },
      "execution_count": null,
      "outputs": []
    },
    {
      "cell_type": "code",
      "source": [
        "# Mengelompokkan numerical features\n",
        "numerical_features = ['PassengerId', 'Embarked', 'Cabin']\n",
        "\n",
        "# Membuat distribusi untuk setiap fitur numerik\n",
        "for feature in numerical_features:\n",
        "  plt.figure(figsize=(8, 6))\n",
        "  sns.histplot(df[feature], kde=True, color='darkcyan')\n",
        "  plt.title(f'Distribution of {feature}', size=15)\n",
        "  plt.xlabel(feature, size=12)\n",
        "  plt.ylabel('Frequency', size=12)\n",
        "  plt.show()"
      ],
      "metadata": {
        "id": "NTpHc_OoRdQz"
      },
      "execution_count": null,
      "outputs": []
    },
    {
      "cell_type": "code",
      "source": [
        "numeric_columns = df.select_dtypes(include=['float64', 'int64'])\n",
        "\n",
        "# Menampilkan scatter plot dari setiap pasangan fitur numerik\n",
        "sns.pairplot(numeric_columns)\n",
        "plt.show()"
      ],
      "metadata": {
        "id": "Fz1xLzcvSjrn"
      },
      "execution_count": null,
      "outputs": []
    },
    {
      "cell_type": "code",
      "source": [
        "# Membuat distribusi untuk setiap fitur numerik dalam tata letak 2x3\n",
        "fig, axes = plt.subplots(2, 3, figsize=(15, 10))\n",
        "\n",
        "for i, feature in enumerate(numerical_features):\n",
        "  sns.histplot(df[feature], kde=True, color='darkcyan', ax=axes[i//3, i%3])\n",
        "  axes[i//3, i%3].set_title(f'Distribution of {feature}', size=12)\n",
        "  axes[i//3, i%3].set_xlabel(feature, size=10)\n",
        "  axes[i//3, i%3].set_ylabel('Frequency', size=10)\n",
        "\n",
        "# Menyesuaikan tata letak\n",
        "plt.tight_layout()\n",
        "plt.show()"
      ],
      "metadata": {
        "id": "LPw2tk6oRoir"
      },
      "execution_count": null,
      "outputs": []
    },
    {
      "cell_type": "code",
      "source": [
        "# Membuat boxplot untuk setiap fitur numerik dalam tata letak 2x3 dengan orientasi horizontal\n",
        "fig, axes = plt.subplots(2, 3, figsize=(15, 8))\n",
        "for i, feature in enumerate(numerical_features):\n",
        "  sns.boxplot(y=df[feature], ax=axes[i // 3, i % 3], orient='h', color='purple')\n",
        "  axes[i // 3, i % 3].set_title(f'Boxplot of {feature}', size=12)\n",
        "  axes[i // 3, i % 3].set_ylabel(feature, size=10)\n",
        "\n",
        "# Menyesuaikan tata letak\n",
        "plt.tight_layout()\n",
        "plt.show()"
      ],
      "metadata": {
        "id": "EXeC0Z3FSby3"
      },
      "execution_count": null,
      "outputs": []
    },
    {
      "cell_type": "code",
      "source": [
        "# Fungsi untuk menampilkan distribusi dengan interaktif bin width\n",
        "def plot_histogram(feature, bin_width):\n",
        "    plt.figure(figsize=(8, 6))\n",
        "    bins = np.arange(min(df[feature]), max(df[feature]) + bin_width, bin_width)\n",
        "    sns.histplot(df[feature], bins=bins, kde=True, color='darkcyan')\n",
        "    plt.title(f'Distribution of {feature}', size=15)\n",
        "    plt.xlabel(feature, size=12)\n",
        "    plt.ylabel('Frequency', size=12)\n",
        "    plt.show()\n",
        "\n",
        "# Menampilkan slider interaktif untuk setiap fitur numerik\n",
        "for feature in numerical_features:\n",
        "  interact(plot_histogram, feature=widgets.fixed(feature), bin_width=(0.1, 1, 0.1))\n"
      ],
      "metadata": {
        "id": "sGjIdvD1RwB1"
      },
      "execution_count": null,
      "outputs": []
    }
  ]
}