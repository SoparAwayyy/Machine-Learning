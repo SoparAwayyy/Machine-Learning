{
  "nbformat": 4,
  "nbformat_minor": 0,
  "metadata": {
    "colab": {
      "private_outputs": true,
      "provenance": [],
      "authorship_tag": "ABX9TyM9GSLI4hpipjvc72M8MU9K",
      "include_colab_link": true
    },
    "kernelspec": {
      "name": "python3",
      "display_name": "Python 3"
    },
    "language_info": {
      "name": "python"
    }
  },
  "cells": [
    {
      "cell_type": "markdown",
      "metadata": {
        "id": "view-in-github",
        "colab_type": "text"
      },
      "source": [
        "<a href=\"https://colab.research.google.com/github/SoparAwayyy/Machine-Learning/blob/main/Week4/4__Visualisasi_Data_Diamond.ipynb\" target=\"_parent\"><img src=\"https://colab.research.google.com/assets/colab-badge.svg\" alt=\"Open In Colab\"/></a>"
      ]
    },
    {
      "cell_type": "markdown",
      "source": [
        "DWI SAPUTRA SOPAR SIAGIAN\n",
        "\n",
        "1103210220\n",
        "\n",
        "VISUALISASI DATA DIAMONDS"
      ],
      "metadata": {
        "id": "-jE8nsHwI1qV"
      }
    },
    {
      "cell_type": "code",
      "execution_count": null,
      "metadata": {
        "id": "x2n32-5GIlks"
      },
      "outputs": [],
      "source": [
        "from google.colab import drive\n",
        "import pandas as pd\n",
        "import matplotlib.pyplot as plt\n",
        "import seaborn as sns\n",
        "import numpy as np\n",
        "from numpy import size\n",
        "import ipywidgets as widgets\n",
        "from ipywidgets import interact"
      ]
    },
    {
      "cell_type": "code",
      "source": [
        "drive.mount ('/content/drive')"
      ],
      "metadata": {
        "id": "xFDSvjOMJGp8"
      },
      "execution_count": null,
      "outputs": []
    },
    {
      "cell_type": "code",
      "source": [
        "# Path dari google drive\n",
        "file_path = ('/content/drive/MyDrive/ML DataSet/diamonds.csv')\n",
        "\n",
        "# membaca dataset csv menjadi dataframe\n",
        "df = pd.read_csv(file_path)\n",
        "\n",
        "# menampilkan lima baris pertama dari dataframe\n",
        "print(df.head())"
      ],
      "metadata": {
        "id": "Fej2kuYlJLDg"
      },
      "execution_count": null,
      "outputs": []
    },
    {
      "cell_type": "code",
      "source": [
        "# menampilkan jumlah nilai unik untuk setiap fitur\n",
        "features = ['carat', 'cut', 'color', 'clarity', 'depth', 'table', 'price', 'x', 'y', 'z']\n",
        "\n",
        "for feature in features:\n",
        "  print(f\"Jumlah Unique valuen for {feature}: {df[feature].nunique()}\")"
      ],
      "metadata": {
        "id": "TNcxAy7vJ_U8"
      },
      "execution_count": null,
      "outputs": []
    },
    {
      "cell_type": "code",
      "source": [
        "# Mengelompokkan fitur ke dalam tiga kategori\n",
        "numerical_features = ['carat', 'depth', 'table', 'x', 'y', 'z']\n",
        "categorical_features = ['cut', 'color', 'clarity']\n",
        "target = ['price']\n",
        "\n",
        "# Output hasil pengelompokkan\n",
        "print(\"Numerical Features:\", numerical_features)\n",
        "print(\"Categorical Features:\", categorical_features)\n",
        "print(\"Target:\", target)"
      ],
      "metadata": {
        "id": "tqv7ENtXKBhQ"
      },
      "execution_count": null,
      "outputs": []
    },
    {
      "cell_type": "code",
      "source": [
        "# Membuat bar chart untuk fitur kategori\n",
        "for feature in categorical_features:\n",
        "    plt.figure(figsize=(8, 6))\n",
        "    sns.countplot(x=feature, data=df, palette='viridis')\n",
        "    plt.title(f'Bar Chart for {feature}', size=15)\n",
        "    plt.xlabel(feature, size=12)\n",
        "    plt.ylabel('Count', size=15)\n",
        "    plt.show()"
      ],
      "metadata": {
        "id": "EoZpjsE7KEfj"
      },
      "execution_count": null,
      "outputs": []
    },
    {
      "cell_type": "code",
      "source": [
        "# Membuat pie chart untuk setiap fitur kategorikal\n",
        "dark_colors = ['#FF5733', '#C70039', '#900C3F', '#581845', '#4A235A']\n",
        "for feature in categorical_features:\n",
        "  plt.figure(figsize=(8, 6))\n",
        "  df[feature].value_counts().plot(kind='pie', autopct='%1.1f%%', colors=dark_colors)\n",
        "  plt.title(f'Pie Chart Of {feature}', size=15)\n",
        "  plt.ylabel('')\n",
        "  plt.show()"
      ],
      "metadata": {
        "id": "vYF-lN6zKRqI"
      },
      "execution_count": null,
      "outputs": []
    },
    {
      "cell_type": "code",
      "source": [
        "# Mengelompokkan numerical features\n",
        "numerical_features = ['carat', 'depth', 'table', 'x', 'y', 'z']\n",
        "\n",
        "# Membuat distribusi untuk setiap fitur numerik\n",
        "for feature in numerical_features:\n",
        "  plt.figure(figsize=(8, 6))\n",
        "  sns.histplot(df[feature], kde=True, color='darkcyan')\n",
        "  plt.title(f'Distribution of {feature}', size=15)\n",
        "  plt.xlabel(feature, size=12)\n",
        "  plt.ylabel('Frequency', size=12)\n",
        "  plt.show()"
      ],
      "metadata": {
        "id": "mrhqbrCeKUaG"
      },
      "execution_count": null,
      "outputs": []
    },
    {
      "cell_type": "code",
      "source": [
        "# Membuat distribusi untuk setiap fitur numerik dalam tata letak 2x3\n",
        "fig, axes = plt.subplots(2, 3, figsize=(15, 10))\n",
        "\n",
        "for i, feature in enumerate(numerical_features):\n",
        "  sns.histplot(df[feature], kde=True, color='darkcyan', ax=axes[i//3, i%3])\n",
        "  axes[i//3, i%3].set_title(f'Distribution of {feature}', size=12)\n",
        "  axes[i//3, i%3].set_xlabel(feature, size=10)\n",
        "  axes[i//3, i%3].set_ylabel('Frequency', size=10)\n",
        "\n",
        "# Menyesuaikan tata letak\n",
        "plt.tight_layout()\n",
        "plt.show()"
      ],
      "metadata": {
        "id": "1Efme84bKYiw"
      },
      "execution_count": null,
      "outputs": []
    },
    {
      "cell_type": "code",
      "source": [
        "# Fungsi untuk menampilkan distribusi dengan interaktif bin width\n",
        "def plot_histogram(feature, bin_width):\n",
        "    plt.figure(figsize=(8, 6))\n",
        "    bins = np.arange(min(df[feature]), max(df[feature]) + bin_width, bin_width)\n",
        "    sns.histplot(df[feature], bins=bins, kde=True, color='darkcyan')\n",
        "    plt.title(f'Distribution of {feature}', size=15)\n",
        "    plt.xlabel(feature, size=12)\n",
        "    plt.ylabel('Frequency', size=12)\n",
        "    plt.show()\n",
        "\n",
        "# Menampilkan slider interaktif untuk setiap fitur numerik\n",
        "for feature in numerical_features:\n",
        "  interact(plot_histogram, feature=widgets.fixed(feature), bin_width=(0.1, 1, 0.1))"
      ],
      "metadata": {
        "id": "g4bA6VLbKcxU"
      },
      "execution_count": null,
      "outputs": []
    },
    {
      "cell_type": "code",
      "source": [
        "# Membuat boxplot untuk setiap fitur numerik dalam tata letak 2x3 dengan orientasi horizontal\n",
        "fig, axes = plt.subplots(2, 3, figsize=(15, 8))\n",
        "for i, feature in enumerate(numerical_features):\n",
        "  sns.boxplot(y=df[feature], ax=axes[i // 3, i % 3], orient='h', color='purple')\n",
        "  axes[i // 3, i % 3].set_title(f'Boxplot of {feature}', size=12)\n",
        "  axes[i // 3, i % 3].set_ylabel(feature, size=10)\n",
        "\n",
        "# Menyesuaikan tata letak\n",
        "plt.tight_layout()\n",
        "plt.show()"
      ],
      "metadata": {
        "id": "2BAdiHtnKfVK"
      },
      "execution_count": null,
      "outputs": []
    },
    {
      "cell_type": "code",
      "source": [
        "# Memilih kolom-kolom numerik\n",
        "numeric_columns = df.select_dtypes(include=['float64', 'int64'])\n",
        "\n",
        "# Menghitung korelasi antar fitur numerik\n",
        "correlation_matrix = numeric_columns.corr()\n",
        "\n",
        "# Membuat heatmap\n",
        "plt.figure(figsize=(10, 8))\n",
        "sns.heatmap(correlation_matrix, annot=True, cmap='coolwarm', fmt=\".2f\", linewidths=0.5)\n",
        "plt.title('Heatmap Korelasi Fitur Numerik')\n",
        "plt.show()"
      ],
      "metadata": {
        "id": "kZRTQI9xMjbc"
      },
      "execution_count": null,
      "outputs": []
    },
    {
      "cell_type": "code",
      "source": [
        "numeric_columns = df.select_dtypes(include=['float64', 'int64'])\n",
        "\n",
        "# Menampilkan scatter plot dari setiap pasangan fitur numerik\n",
        "sns.pairplot(numeric_columns)\n",
        "plt.show()"
      ],
      "metadata": {
        "id": "ie_KzquDMq7b"
      },
      "execution_count": null,
      "outputs": []
    }
  ]
}