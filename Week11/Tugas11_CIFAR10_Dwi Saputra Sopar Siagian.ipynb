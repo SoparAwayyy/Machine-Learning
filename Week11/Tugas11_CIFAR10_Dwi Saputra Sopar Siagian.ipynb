{
  "nbformat": 4,
  "nbformat_minor": 0,
  "metadata": {
    "colab": {
      "private_outputs": true,
      "provenance": [],
      "authorship_tag": "ABX9TyOo45Y70aWn4L2+OhkZ0zBF",
      "include_colab_link": true
    },
    "kernelspec": {
      "name": "python3",
      "display_name": "Python 3"
    },
    "language_info": {
      "name": "python"
    }
  },
  "cells": [
    {
      "cell_type": "markdown",
      "metadata": {
        "id": "view-in-github",
        "colab_type": "text"
      },
      "source": [
        "<a href=\"https://colab.research.google.com/github/SoparAwayyy/Machine-Learning/blob/main/Week11/Tugas11_CIFAR10_Dwi%20Saputra%20Sopar%20Siagian.ipynb\" target=\"_parent\"><img src=\"https://colab.research.google.com/assets/colab-badge.svg\" alt=\"Open In Colab\"/></a>"
      ]
    },
    {
      "cell_type": "markdown",
      "source": [
        "DWI SAPUTRA SOPAR SIAGIAN\n",
        "\n",
        "1103210220\n",
        "\n",
        "Lecture 11 : Image Classification CIFAR10\n",
        "\n",
        "Dataset : CIFAR10\n",
        "\n",
        "Dokumentasi ChatGPT : https://chatgpt.com/share/e54ca685-4f86-4ee9-8320-a96438bd6079"
      ],
      "metadata": {
        "id": "lFaTcjWW5xv1"
      }
    },
    {
      "cell_type": "markdown",
      "source": [],
      "metadata": {
        "id": "IQO30Kzd6DkI"
      }
    },
    {
      "cell_type": "code",
      "execution_count": null,
      "metadata": {
        "id": "_i2khdKqTF6s"
      },
      "outputs": [],
      "source": [
        "import tensorflow as tf\n",
        "from tensorflow.keras.datasets import cifar10\n",
        "from tensorflow.keras.utils import to_categorical\n",
        "import matplotlib.pyplot as plt\n",
        "import numpy as np\n",
        "from tensorflow.keras.models import Sequential\n",
        "from tensorflow.keras.layers import Conv2D, MaxPooling2D, Flatten, Dense, Dropout\n",
        "from sklearn.metrics import confusion_matrix\n",
        "import seaborn as sns\n",
        "from sklearn.metrics import classification_report"
      ]
    },
    {
      "cell_type": "markdown",
      "source": [
        "**Load dan Preprocess Dataset CIFAR10**"
      ],
      "metadata": {
        "id": "_agYkUBI6Hw7"
      }
    },
    {
      "cell_type": "code",
      "source": [
        "# Load dataset\n",
        "(x_train, y_train), (x_test, y_test) = cifar10.load_data()\n",
        "\n",
        "# Normalize the images to a range of 0 to 1\n",
        "x_train = x_train.astype('float32') / 255.0\n",
        "x_test = x_test.astype('float32') / 255.0\n",
        "\n",
        "# One-hot encode the labels\n",
        "y_train = to_categorical(y_train, 10)\n",
        "y_test = to_categorical(y_test, 10)"
      ],
      "metadata": {
        "id": "D_a2ioeUTLkT"
      },
      "execution_count": null,
      "outputs": []
    },
    {
      "cell_type": "markdown",
      "source": [
        "**Explorasi Dataset**"
      ],
      "metadata": {
        "id": "szckQCm36KDK"
      }
    },
    {
      "cell_type": "code",
      "source": [
        "# Define class names\n",
        "class_names = ['airplane', 'automobile', 'bird', 'cat', 'deer',\n",
        "               'dog', 'frog', 'horse', 'ship', 'truck']\n",
        "\n",
        "# Function to plot images\n",
        "def plot_sample_images(x, y, class_names):\n",
        "    fig, axes = plt.subplots(3, 3, figsize=(9, 9))\n",
        "    axes = axes.ravel()\n",
        "\n",
        "    for i in np.arange(0, 9):\n",
        "        axes[i].imshow(x[i])\n",
        "        axes[i].set_title(class_names[np.argmax(y[i])])\n",
        "        axes[i].axis('off')\n",
        "\n",
        "    plt.subplots_adjust(wspace=1, hspace=1)\n",
        "    plt.show()\n",
        "\n",
        "# Plot sample images\n",
        "plot_sample_images(x_train, y_train, class_names)\n"
      ],
      "metadata": {
        "id": "qAyMLVLNTW4K"
      },
      "execution_count": null,
      "outputs": []
    },
    {
      "cell_type": "markdown",
      "source": [
        "**Membuat model CNN**"
      ],
      "metadata": {
        "id": "2CwtG7jA6Nm1"
      }
    },
    {
      "cell_type": "code",
      "source": [
        "model = Sequential([\n",
        "    Conv2D(32, (3, 3), activation='relu', input_shape=(32, 32, 3)),\n",
        "    MaxPooling2D((2, 2)),\n",
        "    Conv2D(64, (3, 3), activation='relu'),\n",
        "    MaxPooling2D((2, 2)),\n",
        "    Conv2D(128, (3, 3), activation='relu'),\n",
        "    Flatten(),\n",
        "    Dense(128, activation='relu'),\n",
        "    Dropout(0.5),\n",
        "    Dense(10, activation='softmax')\n",
        "])"
      ],
      "metadata": {
        "id": "m_1WIoR4UYK3"
      },
      "execution_count": null,
      "outputs": []
    },
    {
      "cell_type": "markdown",
      "source": [
        "**Melihat Arsitektur Model**"
      ],
      "metadata": {
        "id": "9ED5150Z6VNm"
      }
    },
    {
      "cell_type": "code",
      "source": [
        "model.summary()"
      ],
      "metadata": {
        "id": "Fs9ZsC6EUpkr"
      },
      "execution_count": null,
      "outputs": []
    },
    {
      "cell_type": "markdown",
      "source": [
        "**Melatih Model**"
      ],
      "metadata": {
        "id": "nxct5Irg6Zz6"
      }
    },
    {
      "cell_type": "code",
      "source": [
        "model.compile(optimizer='adam',\n",
        "              loss='categorical_crossentropy',\n",
        "              metrics=['accuracy'])\n",
        "\n",
        "history = model.fit(x_train, y_train, epochs=10,\n",
        "                    validation_data=(x_test, y_test),\n",
        "                    batch_size=64)\n"
      ],
      "metadata": {
        "id": "MrtFY5wsUqlN"
      },
      "execution_count": null,
      "outputs": []
    },
    {
      "cell_type": "markdown",
      "source": [
        "**Evaluasi Modelt**"
      ],
      "metadata": {
        "id": "r0pL2v596cUk"
      }
    },
    {
      "cell_type": "code",
      "source": [
        "test_loss, test_acc = model.evaluate(x_test, y_test)\n",
        "print(f\"Test Accuracy: {test_acc}\")"
      ],
      "metadata": {
        "id": "lekxRjniUrgm"
      },
      "execution_count": null,
      "outputs": []
    },
    {
      "cell_type": "markdown",
      "source": [
        "**Plot Hasil Pelatihan**"
      ],
      "metadata": {
        "id": "_M_KVmvr6eOv"
      }
    },
    {
      "cell_type": "code",
      "source": [
        "plt.plot(history.history['accuracy'], label='accuracy')\n",
        "plt.plot(history.history['val_accuracy'], label='val_accuracy')\n",
        "plt.xlabel('Epoch')\n",
        "plt.ylabel('Accuracy')\n",
        "plt.legend(loc='lower right')\n",
        "plt.show()\n",
        "\n",
        "plt.plot(history.history['loss'], label='loss')\n",
        "plt.plot(history.history['val_loss'], label='val_loss')\n",
        "plt.xlabel('Epoch')\n",
        "plt.ylabel('Loss')\n",
        "plt.legend(loc='upper right')\n",
        "plt.show()\n"
      ],
      "metadata": {
        "id": "UIHB4wdU1h6j"
      },
      "execution_count": null,
      "outputs": []
    },
    {
      "cell_type": "markdown",
      "source": [
        "**Membuat Prediksi dan Menampilkan Hasil Prediksi**"
      ],
      "metadata": {
        "id": "TFPHHe8v7ESm"
      }
    },
    {
      "cell_type": "code",
      "source": [
        "import numpy as np\n",
        "import matplotlib.pyplot as plt\n",
        "\n",
        "# Function to plot sample predictions\n",
        "def plot_sample_predictions(x, y_true, y_pred, class_names):\n",
        "    fig, axes = plt.subplots(3, 3, figsize=(9, 9))\n",
        "    axes = axes.ravel()\n",
        "\n",
        "    for i in np.arange(0, 9):\n",
        "        axes[i].imshow(x[i])\n",
        "        true_label = class_names[y_true[i]]\n",
        "        pred_label = class_names[y_pred[i]]\n",
        "        axes[i].set_title(f\"True: {true_label}\\nPred: {pred_label}\")\n",
        "        axes[i].axis('off')\n",
        "\n",
        "    plt.subplots_adjust(wspace=1, hspace=1)\n",
        "    plt.show()\n",
        "\n",
        "# Plot sample predictions\n",
        "plot_sample_predictions(x_test, y_true, y_pred, class_names)\n"
      ],
      "metadata": {
        "id": "bPngPcRf65s0"
      },
      "execution_count": null,
      "outputs": []
    },
    {
      "cell_type": "code",
      "source": [
        "# Define the true labels and predicted labels\n",
        "y_true = [0, 1, 0, 1, 0, 1, 1, 0, 0, 1]  # Example true labels\n",
        "y_pred = [0, 0, 0, 1, 0, 1, 0, 0, 1, 1]  # Example predicted labels\n",
        "\n",
        "# Define the class names\n",
        "class_names = ['Class 0', 'Class 1']\n",
        "\n",
        "# Compute confusion matrix\n",
        "cm = confusion_matrix(y_true, y_pred)\n",
        "\n",
        "# Plot confusion matrix\n",
        "plt.figure(figsize=(10, 8))\n",
        "sns.heatmap(cm, annot=True, fmt='d', cmap='Blues', xticklabels=class_names, yticklabels=class_names)\n",
        "plt.xlabel('Predicted Label')\n",
        "plt.ylabel('True Label')\n",
        "plt.title('Confusion Matrix')\n",
        "plt.show()\n"
      ],
      "metadata": {
        "id": "IfHvzHT45I-h"
      },
      "execution_count": null,
      "outputs": []
    },
    {
      "cell_type": "code",
      "source": [
        "# Print classification report\n",
        "report = classification_report(y_true, y_pred, target_names=class_names)\n",
        "print(report)\n"
      ],
      "metadata": {
        "id": "idK3zQ7Q5Kd9"
      },
      "execution_count": null,
      "outputs": []
    }
  ]
}