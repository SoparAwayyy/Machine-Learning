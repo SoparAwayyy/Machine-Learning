{
  "nbformat": 4,
  "nbformat_minor": 0,
  "metadata": {
    "colab": {
      "private_outputs": true,
      "provenance": [],
      "authorship_tag": "ABX9TyMVe+IDJaV5ZzdbBPW19Fp8",
      "include_colab_link": true
    },
    "kernelspec": {
      "name": "python3",
      "display_name": "Python 3"
    },
    "language_info": {
      "name": "python"
    }
  },
  "cells": [
    {
      "cell_type": "markdown",
      "metadata": {
        "id": "view-in-github",
        "colab_type": "text"
      },
      "source": [
        "<a href=\"https://colab.research.google.com/github/SoparAwayyy/Machine-Learning/blob/main/UTS/UTS_Dwi_Saputra_Sopar.ipynb\" target=\"_parent\"><img src=\"https://colab.research.google.com/assets/colab-badge.svg\" alt=\"Open In Colab\"/></a>"
      ]
    },
    {
      "cell_type": "markdown",
      "source": [
        "Dwi Saputra Sopar Siagian\n",
        "\n",
        "1103210220\n",
        "\n",
        "UTS\n",
        "\n",
        "dataset : https://www.kaggle.com/datasets/parisrohan/credit-score-classification\n",
        "\n",
        "promp pt : https://chat.openai.com/c/f6079e8e-42c1-4a4b-b1a7-c56773552fa1\n",
        "\n",
        "Referensi\n",
        "https://www.kaggle.com/code/yeremiamarcelliust/oversampling-rf-decision-tree-svc-credit-s\n"
      ],
      "metadata": {
        "id": "1AjbxZUfES6L"
      }
    },
    {
      "cell_type": "markdown",
      "source": [
        "Library yang digunakan"
      ],
      "metadata": {
        "id": "z6yuOZYrHrW9"
      }
    },
    {
      "cell_type": "code",
      "source": [
        "import pandas as pd\n",
        "from sklearn.tree import DecisionTreeClassifier\n",
        "from sklearn.metrics import accuracy_score, classification_report, mean_absolute_error, mean_absolute_percentage_error, mean_squared_error\n",
        "from sklearn.model_selection import train_test_split\n",
        "from sklearn.preprocessing import StandardScaler\n",
        "from sklearn.preprocessing import LabelEncoder\n",
        "from sklearn.ensemble import RandomForestClassifier\n",
        "from sklearn.svm import SVC\n",
        "from xgboost import XGBClassifier\n",
        "from sklearn.neighbors import KNeighborsClassifier"
      ],
      "metadata": {
        "id": "MzCV4d1wpbsb"
      },
      "execution_count": null,
      "outputs": []
    },
    {
      "cell_type": "markdown",
      "source": [
        "mengconectkan ke drive"
      ],
      "metadata": {
        "id": "sftGpSRXHydK"
      }
    },
    {
      "cell_type": "code",
      "source": [
        "from google.colab import drive\n",
        "drive.mount('/content/drive')"
      ],
      "metadata": {
        "id": "qj3kpK_h5FVN"
      },
      "execution_count": null,
      "outputs": []
    },
    {
      "cell_type": "code",
      "source": [
        "# File paths\n",
        "train_file_path = '/content/drive/MyDrive/ML DataSet/train.csv'\n",
        "\n",
        "# Load datasets\n",
        "train_data = pd.read_csv(train_file_path)"
      ],
      "metadata": {
        "id": "bnM7uk4r5QQA"
      },
      "execution_count": null,
      "outputs": []
    },
    {
      "cell_type": "code",
      "source": [
        "data.head()"
      ],
      "metadata": {
        "id": "S7vXJBCruH5R"
      },
      "execution_count": null,
      "outputs": []
    },
    {
      "cell_type": "code",
      "source": [
        "data.head()"
      ],
      "metadata": {
        "id": "EhRHmn4PuFuf"
      },
      "execution_count": null,
      "outputs": []
    },
    {
      "cell_type": "markdown",
      "source": [
        "# **Pre-processing**"
      ],
      "metadata": {
        "id": "XBOt34ir_PaL"
      }
    },
    {
      "cell_type": "code",
      "source": [
        "data = pd.read_csv(\"/content/drive/MyDrive/ML DataSet/train.csv\")\n",
        "data = data.drop(columns=['ID',\"Customer_ID\",\"SSN\",\"Credit_History_Age\",'Name',\"Type_of_Loan\"])\n",
        "data = data.dropna(axis=0)\n",
        "\n",
        "data = data.applymap(lambda x: x.replace('_', '') if isinstance(x, str) else x)"
      ],
      "metadata": {
        "id": "e0OVergrp1b_"
      },
      "execution_count": null,
      "outputs": []
    },
    {
      "cell_type": "code",
      "source": [
        "data.describe()"
      ],
      "metadata": {
        "id": "RDuoEv4JuDJq"
      },
      "execution_count": null,
      "outputs": []
    },
    {
      "cell_type": "markdown",
      "source": [
        "meng encoding"
      ],
      "metadata": {
        "id": "BJk9c0EsFq_Z"
      }
    },
    {
      "cell_type": "code",
      "source": [
        "categorical = ['Month',\"Occupation\",\"Credit_Mix\",\"Payment_of_Min_Amount\",\"Payment_Behaviour\",\"Credit_Score\"]\n",
        "label_encoder = LabelEncoder()\n",
        "for x in categorical:\n",
        "    data[x] = label_encoder.fit_transform(data[x])"
      ],
      "metadata": {
        "id": "qJBda--UqJva"
      },
      "execution_count": null,
      "outputs": []
    },
    {
      "cell_type": "markdown",
      "source": [
        "Membersihkan data"
      ],
      "metadata": {
        "id": "-VgK4hfxFdgG"
      }
    },
    {
      "cell_type": "code",
      "source": [
        "# Saring nilai negatif dalam kolom numerik\n",
        "data = data.apply(pd.to_numeric,errors='coerce')\n",
        "data = data.applymap(lambda x: x if x >= 0 else None)\n",
        "data.dropna(axis=0,inplace=True)"
      ],
      "metadata": {
        "id": "WKlnv4Feqbuf"
      },
      "execution_count": null,
      "outputs": []
    },
    {
      "cell_type": "code",
      "source": [
        "#Hitung kuartil untuk setiap feature\n",
        "quartiles = data.quantile([0.25, 0.75])\n",
        "\n",
        "# Hitung Rentang Interkuartil (IQR) untuk setiap feature\n",
        "IQR = quartiles.loc[0.75] - quartiles.loc[0.25]\n",
        "\n",
        "# Tentukan batas bawah dan atas untuk setiap feature\n",
        "lower_bound = (quartiles.loc[0.25] - 1.5 * IQR).to_dict()\n",
        "upper_bound = (quartiles.loc[0.75] + 1.5 * IQR).to_dict()\n",
        "\n",
        "# Filter data yang berada di luar batas untuk setiap feature\n",
        "filtered_data = data.copy()\n",
        "for feature in data.columns:\n",
        "    lower_bound_value = lower_bound[feature]\n",
        "    upper_bound_value = upper_bound[feature]\n",
        "    filtered_data = filtered_data[(filtered_data[feature] >= lower_bound_value) & (filtered_data[feature] <= upper_bound_value)]\n",
        "data = filtered_data"
      ],
      "metadata": {
        "id": "-y06P_DRqhlO"
      },
      "execution_count": null,
      "outputs": []
    },
    {
      "cell_type": "markdown",
      "source": [
        "# **TEST MODEL**"
      ],
      "metadata": {
        "id": "mqcUyFox_Ip-"
      }
    },
    {
      "cell_type": "markdown",
      "source": [
        "**Model Decision Tree**\n",
        "\n",
        "memiliki akurasi 68,7%"
      ],
      "metadata": {
        "id": "ZkARipYR8PJC"
      }
    },
    {
      "cell_type": "code",
      "source": [
        "# Memisahkan fitur (X) dan variabel target (y)\n",
        "X = data.drop('Credit_Score', axis=1)\n",
        "y = data['Credit_Score']\n",
        "\n",
        "# Membagi dataset menjadi set pelatihan dan pengujian\n",
        "X_train, X_test, y_train, y_test = train_test_split(X, y, test_size=0.1, random_state=42)\n",
        "\n",
        "# Penskalaan fitur\n",
        "scaler = StandardScaler()\n",
        "X_train_scaled = scaler.fit_transform(X_train)\n",
        "X_test_scaled = scaler.transform(X_test)\n",
        "\n",
        "# Inisialisasi pengklasifikasi Decision Tree\n",
        "dt_classifier = DecisionTreeClassifier(random_state=42)\n",
        "\n",
        "# Melatih pengklasifikasi Decision Tree\n",
        "dt_classifier.fit(X_train_scaled, y_train)\n",
        "\n",
        "# Memprediksi label untuk set pengujian\n",
        "y_pred = dt_classifier.predict(X_test_scaled)\n",
        "\n",
        "# Evaluasi model\n",
        "akurasi = accuracy_score(y_test, y_pred)\n",
        "print(\"Akurasi:\", akurasi)\n",
        "\n",
        "# Laporan klasifikasi\n",
        "print(\"\\nLaporan Klasifikasi:\")\n",
        "print(classification_report(y_test, y_pred))\n",
        "\n",
        "# Menghitung mean absolute error\n",
        "mean_error = mean_absolute_error(y_test, y_pred)\n",
        "print(\"Mean Absolute Error:\", mean_error)\n",
        "\n",
        "# Menghitung mean absolute percentage error (MAPE)\n",
        "mape = mean_absolute_percentage_error(y_test, y_pred)\n",
        "print(\"Mean Absolute Percentage Error (MAPE):\", mape)\n",
        "\n",
        "# Menghitung mean squared error (MSE)\n",
        "mse = mean_squared_error(y_test, y_pred)\n",
        "print(\"Mean Squared Error (MSE):\", mse)\n",
        "\n"
      ],
      "metadata": {
        "id": "yWV_1Ni5LoyQ"
      },
      "execution_count": null,
      "outputs": []
    },
    {
      "cell_type": "markdown",
      "source": [
        "**Model Random Forest**\n",
        "\n",
        "Memiliki akurasi 79,5%"
      ],
      "metadata": {
        "id": "-yB5MUm98ChE"
      }
    },
    {
      "cell_type": "code",
      "source": [
        "# Memisahkan fitur (X) dan variabel target (y)\n",
        "X = data.drop('Credit_Score', axis=1)\n",
        "y = data['Credit_Score']\n",
        "\n",
        "# Membagi dataset menjadi set pelatihan dan pengujian\n",
        "X_train, X_test, y_train, y_test = train_test_split(X, y, test_size=0.1, random_state=42)\n",
        "\n",
        "# Penskalaan fitur\n",
        "scaler = StandardScaler()\n",
        "X_train_scaled = scaler.fit_transform(X_train)\n",
        "X_test_scaled = scaler.transform(X_test)\n",
        "\n",
        "# Inisialisasi pengklasifikasi Random Forest\n",
        "rf_classifier = RandomForestClassifier(n_estimators=100, random_state=42)\n",
        "\n",
        "# Melatih pengklasifikasi Random Forest\n",
        "rf_classifier.fit(X_train_scaled, y_train)\n",
        "\n",
        "# Memprediksi label untuk set pengujian\n",
        "y_pred = rf_classifier.predict(X_test_scaled)\n",
        "\n",
        "# Evaluasi model\n",
        "akurasi = accuracy_score(y_test, y_pred)\n",
        "print(\"Akurasi:\", akurasi)\n",
        "\n",
        "# Laporan klasifikasi\n",
        "print(\"\\nLaporan Klasifikasi:\")\n",
        "print(classification_report(y_test, y_pred))\n",
        "\n",
        "# Menghitung mean absolute error\n",
        "mean_error = mean_absolute_error(y_test, y_pred)\n",
        "print(\"Mean Absolute Error:\", mean_error)\n",
        "\n",
        "# Menghitung mean absolute percentage error (MAPE)\n",
        "mape = mean_absolute_percentage_error(y_test, y_pred)\n",
        "print(\"Mean Absolute Percentage Error (MAPE):\", mape)\n",
        "\n",
        "# Menghitung mean squared error (MSE)\n",
        "mse = mean_squared_error(y_test, y_pred)\n",
        "print(\"Mean Squared Error (MSE):\", mse)"
      ],
      "metadata": {
        "id": "7JkQssxSq4s4"
      },
      "execution_count": null,
      "outputs": []
    },
    {
      "cell_type": "markdown",
      "source": [
        "**MODEL SVM**\n",
        "\n",
        "Memiliki akurasi 72,9%"
      ],
      "metadata": {
        "id": "C-6R6nkW78DW"
      }
    },
    {
      "cell_type": "code",
      "source": [
        "# Memisahkan fitur (X) dan variabel target (y)\n",
        "X = data.drop('Credit_Score', axis=1)\n",
        "y = data['Credit_Score']\n",
        "\n",
        "# Membagi dataset menjadi set pelatihan dan pengujian\n",
        "X_train, X_test, y_train, y_test = train_test_split(X, y, test_size=0.1, random_state=42)\n",
        "\n",
        "# Penskalaan fitur\n",
        "scaler = StandardScaler()\n",
        "X_train_scaled = scaler.fit_transform(X_train)\n",
        "X_test_scaled = scaler.transform(X_test)\n",
        "\n",
        "# Inisialisasi pengklasifikasi SVM\n",
        "svm_classifier = SVC(kernel='rbf', random_state=42)\n",
        "\n",
        "# Melatih pengklasifikasi SVM\n",
        "svm_classifier.fit(X_train_scaled, y_train)\n",
        "\n",
        "# Memprediksi label untuk set pengujian\n",
        "y_pred = svm_classifier.predict(X_test_scaled)\n",
        "\n",
        "# Evaluasi model\n",
        "akurasi = accuracy_score(y_test, y_pred)\n",
        "print(\"Akurasi:\", akurasi)\n",
        "\n",
        "# Laporan klasifikasi\n",
        "print(\"\\nLaporan Klasifikasi:\")\n",
        "print(classification_report(y_test, y_pred))\n",
        "\n",
        "# Menghitung mean absolute error\n",
        "mean_error = mean_absolute_error(y_test, y_pred)\n",
        "print(\"Mean Absolute Error:\", mean_error)\n",
        "\n",
        "# Menghitung mean absolute percentage error (MAPE)\n",
        "mape = mean_absolute_percentage_error(y_test, y_pred)\n",
        "print(\"Mean Absolute Percentage Error (MAPE):\", mape)\n",
        "\n",
        "# Menghitung mean squared error (MSE)\n",
        "mse = mean_squared_error(y_test, y_pred)\n",
        "print(\"Mean Squared Error (MSE):\", mse)"
      ],
      "metadata": {
        "id": "X6--IV3HrXCG"
      },
      "execution_count": null,
      "outputs": []
    },
    {
      "cell_type": "markdown",
      "source": [
        "**Model XGBOOST**\n",
        "\n",
        "Memiliki akurasi 77,8%"
      ],
      "metadata": {
        "id": "d5QtaRlw7u1f"
      }
    },
    {
      "cell_type": "code",
      "source": [
        "# Memisahkan fitur (X) dan variabel target (y)\n",
        "X = data.drop('Credit_Score', axis=1)\n",
        "y = data['Credit_Score']\n",
        "\n",
        "# Membagi dataset menjadi set pelatihan dan pengujian\n",
        "X_train, X_test, y_train, y_test = train_test_split(X, y, test_size=0.1, random_state=42)\n",
        "\n",
        "# Penskalaan fitur\n",
        "scaler = StandardScaler()\n",
        "X_train_scaled = scaler.fit_transform(X_train)\n",
        "X_test_scaled = scaler.transform(X_test)\n",
        "\n",
        "# Inisialisasi pengklasifikasi XGBoost\n",
        "xgb_classifier = XGBClassifier()\n",
        "\n",
        "# Melatih pengklasifikasi XGBoost\n",
        "xgb_classifier.fit(X_train_scaled, y_train)\n",
        "\n",
        "# Memprediksi label untuk set pengujian\n",
        "y_pred = xgb_classifier.predict(X_test_scaled)\n",
        "\n",
        "# Evaluasi model\n",
        "akurasi = accuracy_score(y_test, y_pred)\n",
        "print(\"Akurasi:\", akurasi)\n",
        "\n",
        "# Laporan klasifikasi\n",
        "print(\"\\nLaporan Klasifikasi:\")\n",
        "print(classification_report(y_test, y_pred))\n",
        "\n",
        "# Menghitung mean absolute error\n",
        "mean_error = mean_absolute_error(y_test, y_pred)\n",
        "print(\"Mean Absolute Error:\", mean_error)\n",
        "\n",
        "# Menghitung mean absolute percentage error (MAPE)\n",
        "mape = mean_absolute_percentage_error(y_test, y_pred)\n",
        "print(\"Mean Absolute Percentage Error (MAPE):\", mape)\n",
        "\n",
        "# Menghitung mean squared error (MSE)\n",
        "mse = mean_squared_error(y_test, y_pred)\n",
        "print(\"Mean Squared Error (MSE):\", mse)"
      ],
      "metadata": {
        "id": "VKOqg13z7mKH"
      },
      "execution_count": null,
      "outputs": []
    },
    {
      "cell_type": "markdown",
      "source": [
        "Dari 4 model percobaan untuk model yang memiliki akurasi paling tinggi yaitu random forest dan untuk model yang memiliki akurasi paling rendah yaitu decision tree.  \n",
        "\n",
        "Model yang lolos diatas 75% akurasi yaitu:\n",
        "\n",
        "Random forest:79,5%\n",
        "\n",
        "XGBoost : 77,8%\n",
        "\n",
        "Tidak lolos atau dibawah 75% akurasi yaitu\n",
        "\n",
        "SVM : 72,9%\n",
        "\n",
        "Decision Tree : 68,7 %"
      ],
      "metadata": {
        "id": "B2oTi7Ua8wkW"
      }
    }
  ]
}